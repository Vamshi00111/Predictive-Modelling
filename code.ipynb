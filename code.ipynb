{
 "cells": [
  {
   "cell_type": "markdown",
   "id": "edb5e6f2",
   "metadata": {},
   "source": [
    "## Analysis of JD Data"
   ]
  },
  {
   "cell_type": "code",
   "execution_count": 12,
   "id": "6fc2bb24",
   "metadata": {
    "tags": []
   },
   "outputs": [],
   "source": [
    "# This code appears in every demonstration Notebook.\n",
    "# By default, when you run each cell, only the last output of the codes will show.\n",
    "# This code makes all outputs of a cell show.\n",
    "from IPython.core.interactiveshell import InteractiveShell\n",
    "InteractiveShell.ast_node_interactivity = \"all\""
   ]
  },
  {
   "cell_type": "markdown",
   "id": "409e4901",
   "metadata": {},
   "source": [
    "### We will analyze JD Data in the rest of our project.\n",
    "The objective: to build models to accurately predict delivery times for customer orders.<br>\n",
    "The data: We need the following tables from the JD.com data<br>\n",
    "        1. Order<br>\n",
    "        2. User<br>\n",
    "        3. Delivery<br>\n",
    "        4. Inventory<br>\n",
    "        5. Network<br>        "
   ]
  },
  {
   "cell_type": "markdown",
   "id": "52749b83",
   "metadata": {},
   "source": [
    "Import necessary packages."
   ]
  },
  {
   "cell_type": "code",
   "execution_count": 13,
   "id": "e832a01e",
   "metadata": {
    "tags": []
   },
   "outputs": [],
   "source": [
    "import pandas as pd"
   ]
  },
  {
   "cell_type": "markdown",
   "id": "2169b408",
   "metadata": {},
   "source": [
    "Read in the five csv files."
   ]
  },
  {
   "cell_type": "code",
   "execution_count": 14,
   "id": "4c19a50a",
   "metadata": {
    "tags": []
   },
   "outputs": [],
   "source": [
    "orderData = pd.read_csv(\"JD_order_data.csv\")\n",
    "userData = pd.read_csv(\"JD_user_data.csv\")\n",
    "deliveryData = pd.read_csv(\"JD_delivery_data.csv\")\n",
    "inventoryData = pd.read_csv(\"JD_inventory_data.csv\")\n",
    "networkData = pd.read_csv(\"JD_network_data.csv\")"
   ]
  },
  {
   "cell_type": "markdown",
   "id": "68e999a7",
   "metadata": {},
   "source": [
    "Display a sample of each data frame."
   ]
  },
  {
   "cell_type": "code",
   "execution_count": 15,
   "id": "66478200",
   "metadata": {
    "tags": []
   },
   "outputs": [
    {
     "name": "stdout",
     "output_type": "stream",
     "text": [
      "Sample of order data:       order_ID     user_ID      sku_ID  order_date             order_time  \\\n",
      "0  d0cf5cc6db  0abe9ef2ce  581d5b54c1  2018-03-01  2018-03-01 17:14:25.0   \n",
      "1  7444318d01  33a9e56257  067b673f2b  2018-03-01  2018-03-01 11:10:40.0   \n",
      "2  f973b01694  4ea3cf408f  623d0a582a  2018-03-01  2018-03-01 09:13:26.0   \n",
      "3  8c1cec8d4b  b87cb736cb  fc5289b139  2018-03-01  2018-03-01 21:29:50.0   \n",
      "4  d43a33c38a  4829223b6f  623d0a582a  2018-03-01  2018-03-01 19:13:37.0   \n",
      "\n",
      "   quantity  type promise  original_unit_price  final_unit_price  \\\n",
      "0         1     2       -                 89.0              79.0   \n",
      "1         1     1       2                 99.9              53.9   \n",
      "2         1     1       2                 78.0              58.5   \n",
      "3         1     1       2                 61.0              35.0   \n",
      "4         1     1       1                 78.0              53.0   \n",
      "\n",
      "   direct_discount_per_unit  quantity_discount_per_unit  \\\n",
      "0                       0.0                        10.0   \n",
      "1                       5.0                        41.0   \n",
      "2                      19.5                         0.0   \n",
      "3                       0.0                        26.0   \n",
      "4                      19.0                         0.0   \n",
      "\n",
      "   bundle_discount_per_unit  coupon_discount_per_unit  gift_item  dc_ori  \\\n",
      "0                       0.0                       0.0          0       4   \n",
      "1                       0.0                       0.0          0      28   \n",
      "2                       0.0                       0.0          0      28   \n",
      "3                       0.0                       0.0          0       4   \n",
      "4                       0.0                       6.0          0       3   \n",
      "\n",
      "   dc_des  \n",
      "0      28  \n",
      "1      28  \n",
      "2      28  \n",
      "3      28  \n",
      "4      16  \n",
      "Number of Observations: 549989\n",
      "Number of Columns: 17\n",
      "Column Names: Index(['order_ID', 'user_ID', 'sku_ID', 'order_date', 'order_time', 'quantity',\n",
      "       'type', 'promise', 'original_unit_price', 'final_unit_price',\n",
      "       'direct_discount_per_unit', 'quantity_discount_per_unit',\n",
      "       'bundle_discount_per_unit', 'coupon_discount_per_unit', 'gift_item',\n",
      "       'dc_ori', 'dc_des'],\n",
      "      dtype='object')\n"
     ]
    }
   ],
   "source": [
    "print(\"Sample of order data: \",orderData.head())\n",
    "numObservationsOrder = len(orderData)\n",
    "numColumnsOrder = orderData.shape[1]\n",
    "columnNamesOrder = orderData.columns\n",
    "\n",
    "print(\"Number of Observations:\", numObservationsOrder)\n",
    "print(\"Number of Columns:\", numColumnsOrder)\n",
    "print(\"Column Names:\", columnNamesOrder)"
   ]
  },
  {
   "cell_type": "code",
   "execution_count": 16,
   "id": "2d3edb48",
   "metadata": {},
   "outputs": [
    {
     "name": "stdout",
     "output_type": "stream",
     "text": [
      "Sample of user data:        user_ID  user_level first_order_month  plus gender    age  \\\n",
      "0  000089d6a6           1           2017-08     0      F  26-35   \n",
      "1  0000babd1f           1           2018-03     0      U      U   \n",
      "2  0000bc018b           3           2016-06     0      F   >=56   \n",
      "3  0000d0e5ab           3           2014-06     0      M  26-35   \n",
      "4  0000dce472           3           2012-08     1      U      U   \n",
      "\n",
      "  marital_status  education  city_level  purchase_power  \n",
      "0              S          3           4               3  \n",
      "1              U         -1          -1              -1  \n",
      "2              M          3           2               3  \n",
      "3              M          3           2               2  \n",
      "4              U         -1          -1              -1  \n",
      "Number of Observations: 457298\n",
      "Number of Columns: 10\n",
      "Column Names: Index(['user_ID', 'user_level', 'first_order_month', 'plus', 'gender', 'age',\n",
      "       'marital_status', 'education', 'city_level', 'purchase_power'],\n",
      "      dtype='object')\n"
     ]
    }
   ],
   "source": [
    "print(\"Sample of user data: \",userData.head())\n",
    "numObservationsUser = len(userData)\n",
    "numColumnsUser = userData.shape[1]\n",
    "columnNamesUser = userData.columns\n",
    "\n",
    "print(\"Number of Observations:\", numObservationsUser)\n",
    "print(\"Number of Columns:\", numColumnsUser)\n",
    "print(\"Column Names:\", columnNamesUser)"
   ]
  },
  {
   "cell_type": "code",
   "execution_count": 17,
   "id": "c61c7385",
   "metadata": {},
   "outputs": [
    {
     "name": "stdout",
     "output_type": "stream",
     "text": [
      "Sample of delivery data:     package_ID    order_ID  type        ship_out_time     arr_station_time  \\\n",
      "0  dc3d6d2258  dc3d6d2258     1  2018-03-01 08:00:00  2018-03-01 15:00:00   \n",
      "1  19802a570c  19802a570c     1  2018-03-01 10:00:00  2018-03-01 15:00:00   \n",
      "2  e22627af66  e22627af66     1  2018-03-01 11:00:00  2018-03-01 15:00:00   \n",
      "3  50d11a586d  50d11a586d     1  2018-03-01 10:00:00  2018-03-01 16:00:00   \n",
      "4  a3bfe38bf4  a3bfe38bf4     1  2018-03-01 11:00:00  2018-03-01 16:00:00   \n",
      "\n",
      "              arr_time  \n",
      "0  2018-03-01 18:00:00  \n",
      "1  2018-03-01 17:00:00  \n",
      "2  2018-03-01 17:00:00  \n",
      "3  2018-03-01 19:00:00  \n",
      "4  2018-03-01 17:00:00  \n",
      "Number of Observations: 293229\n",
      "Number of Columns: 6\n",
      "Column Names: Index(['package_ID', 'order_ID', 'type', 'ship_out_time', 'arr_station_time',\n",
      "       'arr_time'],\n",
      "      dtype='object')\n"
     ]
    }
   ],
   "source": [
    "print(\"Sample of delivery data: \",deliveryData.head())\n",
    "numObservationsDelivery = len(deliveryData)\n",
    "numColumnsDelivery = deliveryData.shape[1]\n",
    "columnNamesDelivery = deliveryData.columns\n",
    "\n",
    "print(\"Number of Observations:\", numObservationsDelivery)\n",
    "print(\"Number of Columns:\", numColumnsDelivery)\n",
    "print(\"Column Names:\", columnNamesDelivery)"
   ]
  },
  {
   "cell_type": "code",
   "execution_count": 18,
   "id": "120d74e0",
   "metadata": {},
   "outputs": [
    {
     "name": "stdout",
     "output_type": "stream",
     "text": [
      "Sample of inventory data:     dc_ID      sku_ID        date\n",
      "0      9  50f6f91962  2018-03-01\n",
      "1      9  7f0ddbcdde  2018-03-01\n",
      "2      9  8ad5789d74  2018-03-01\n",
      "3      9  468d34eda4  2018-03-01\n",
      "4      9  460afaddb6  2018-03-01\n",
      "Number of Observations: 136079\n",
      "Number of Columns: 3\n",
      "Column Names: Index(['dc_ID', 'sku_ID', 'date'], dtype='object')\n"
     ]
    }
   ],
   "source": [
    "print(\"Sample of inventory data: \",inventoryData.head())\n",
    "numObservationsInventory = len(inventoryData)\n",
    "numColumnsInventory = inventoryData.shape[1]\n",
    "columnNamesInventory = inventoryData.columns\n",
    "\n",
    "print(\"Number of Observations:\", numObservationsInventory)\n",
    "print(\"Number of Columns:\", numColumnsInventory)\n",
    "print(\"Column Names:\", columnNamesInventory)"
   ]
  },
  {
   "cell_type": "code",
   "execution_count": 19,
   "id": "8d3d125b",
   "metadata": {},
   "outputs": [
    {
     "name": "stdout",
     "output_type": "stream",
     "text": [
      "Sample of network data:     region_ID  dc_ID\n",
      "0          2     57\n",
      "1          2     43\n",
      "2          2     42\n",
      "3          2     66\n",
      "4          2     20\n",
      "Number of Observations: 56\n",
      "Number of Columns: 2\n",
      "Column Names: Index(['region_ID', 'dc_ID'], dtype='object')\n"
     ]
    }
   ],
   "source": [
    "print(\"Sample of network data: \",networkData.head())\n",
    "numObservationsNetwork = len(networkData)\n",
    "numColumnsNetwork = networkData.shape[1]\n",
    "columnNamesNetwork = networkData.columns\n",
    "\n",
    "print(\"Number of Observations:\", numObservationsNetwork)\n",
    "print(\"Number of Columns:\", numColumnsNetwork)\n",
    "print(\"Column Names:\", columnNamesNetwork)"
   ]
  },
  {
   "cell_type": "markdown",
   "id": "740303fd",
   "metadata": {},
   "source": [
    "Check for missing values of columns of each dataframe."
   ]
  },
  {
   "cell_type": "code",
   "execution_count": 20,
   "id": "d3b23faf",
   "metadata": {},
   "outputs": [
    {
     "name": "stdout",
     "output_type": "stream",
     "text": [
      "order_ID                      0\n",
      "user_ID                       0\n",
      "sku_ID                        0\n",
      "order_date                    0\n",
      "order_time                    0\n",
      "quantity                      0\n",
      "type                          0\n",
      "promise                       0\n",
      "original_unit_price           0\n",
      "final_unit_price              0\n",
      "direct_discount_per_unit      0\n",
      "quantity_discount_per_unit    0\n",
      "bundle_discount_per_unit      0\n",
      "coupon_discount_per_unit      0\n",
      "gift_item                     0\n",
      "dc_ori                        0\n",
      "dc_des                        0\n",
      "dtype: int64\n",
      "There are no missing values in any of the columns in the orderData DataFrame. \n"
     ]
    }
   ],
   "source": [
    "missingValuesOrder = orderData.isnull().sum()\n",
    "print(missingValuesOrder)\n",
    "print(\"There are no missing values in any of the columns in the orderData DataFrame. \")"
   ]
  },
  {
   "cell_type": "code",
   "execution_count": 21,
   "id": "30ab2a60",
   "metadata": {},
   "outputs": [
    {
     "name": "stdout",
     "output_type": "stream",
     "text": [
      "user_ID              0\n",
      "user_level           0\n",
      "first_order_month    0\n",
      "plus                 0\n",
      "gender               0\n",
      "age                  0\n",
      "marital_status       0\n",
      "education            0\n",
      "city_level           0\n",
      "purchase_power       0\n",
      "dtype: int64\n",
      "There are no missing values in any of the columns in the userData DataFrame. \n"
     ]
    }
   ],
   "source": [
    "missingValuesUser = userData.isnull().sum()\n",
    "print(missingValuesUser)\n",
    "print(\"There are no missing values in any of the columns in the userData DataFrame. \")"
   ]
  },
  {
   "cell_type": "code",
   "execution_count": 22,
   "id": "58752531",
   "metadata": {},
   "outputs": [
    {
     "name": "stdout",
     "output_type": "stream",
     "text": [
      "package_ID          0\n",
      "order_ID            0\n",
      "type                0\n",
      "ship_out_time       0\n",
      "arr_station_time    0\n",
      "arr_time            0\n",
      "dtype: int64\n",
      "There are no missing values in any of the columns in the deliveryData DataFrame. \n"
     ]
    }
   ],
   "source": [
    "missingValuesDelivery = deliveryData.isnull().sum()\n",
    "print(missingValuesDelivery)\n",
    "print(\"There are no missing values in any of the columns in the deliveryData DataFrame. \")"
   ]
  },
  {
   "cell_type": "code",
   "execution_count": 23,
   "id": "f01a6eba",
   "metadata": {},
   "outputs": [
    {
     "name": "stdout",
     "output_type": "stream",
     "text": [
      "dc_ID     0\n",
      "sku_ID    0\n",
      "date      0\n",
      "dtype: int64\n",
      "There are no missing values in any of the columns in the inventoryData DataFrame. \n"
     ]
    }
   ],
   "source": [
    "missingValuesInventory = inventoryData.isnull().sum()\n",
    "print(missingValuesInventory)\n",
    "print(\"There are no missing values in any of the columns in the inventoryData DataFrame. \")"
   ]
  },
  {
   "cell_type": "code",
   "execution_count": 24,
   "id": "d95da6fb",
   "metadata": {},
   "outputs": [
    {
     "name": "stdout",
     "output_type": "stream",
     "text": [
      "region_ID    0\n",
      "dc_ID        0\n",
      "dtype: int64\n",
      "There are no missing values in any of the columns in the networkData DataFrame. \n"
     ]
    }
   ],
   "source": [
    "missingValuesNetwork = networkData.isnull().sum()\n",
    "print(missingValuesNetwork)\n",
    "print(\"There are no missing values in any of the columns in the networkData DataFrame. \")"
   ]
  },
  {
   "cell_type": "markdown",
   "id": "d8417be7",
   "metadata": {},
   "source": [
    "Check the promise variable in orders table."
   ]
  },
  {
   "cell_type": "code",
   "execution_count": 25,
   "id": "db6c21e7",
   "metadata": {},
   "outputs": [
    {
     "name": "stdout",
     "output_type": "stream",
     "text": [
      "['-' '2' '1' '3' '4' '5' '6' '7' '8']\n",
      "The unusual value is '-' (dash), which is not a typical numerical or categorical value. It seems to represent a specific category related to promise.\n"
     ]
    }
   ],
   "source": [
    "PromiseValues = orderData['promise'].unique()\n",
    "print(PromiseValues)\n",
    "print(\"The unusual value is '-' (dash), which is not a typical numerical or categorical value. It seems to represent a specific category related to promise.\")"
   ]
  },
  {
   "cell_type": "markdown",
   "id": "7f44a1aa",
   "metadata": {},
   "source": [
    "How many observations for each value in 'promise' variable"
   ]
  },
  {
   "cell_type": "code",
   "execution_count": 26,
   "id": "ed4221a7",
   "metadata": {
    "scrolled": true
   },
   "outputs": [
    {
     "name": "stdout",
     "output_type": "stream",
     "text": [
      "Number of Observations for Each Value in 'promise' Variable:\n",
      "-    208583\n",
      "1    157509\n",
      "2    109990\n",
      "3     33176\n",
      "4     23882\n",
      "5     10054\n",
      "6      3039\n",
      "8      2374\n",
      "7      1382\n",
      "Name: promise, dtype: int64\n",
      "The dash value has maximum number of observations compared to other promise values\n"
     ]
    }
   ],
   "source": [
    "promiseCounts = orderData['promise'].value_counts()\n",
    "print(\"Number of Observations for Each Value in 'promise' Variable:\")\n",
    "print(promiseCounts)\n",
    "print(\"The dash value has maximum number of observations compared to other promise values\")"
   ]
  },
  {
   "cell_type": "markdown",
   "id": "056bb6b2",
   "metadata": {},
   "source": [
    "Select only two variables: 'type' and 'promise' from order table. Sort it by variable 'type' in descending order"
   ]
  },
  {
   "cell_type": "code",
   "execution_count": 27,
   "id": "e7c4bf62",
   "metadata": {},
   "outputs": [
    {
     "name": "stdout",
     "output_type": "stream",
     "text": [
      "        type promise\n",
      "0          2       -\n",
      "308329     2       -\n",
      "308358     2       -\n",
      "308357     2       -\n",
      "308356     2       -\n",
      "308355     2       -\n",
      "308354     2       -\n",
      "308353     2       -\n",
      "308352     2       -\n",
      "308351     2       -\n",
      "        type promise\n",
      "334636     1       1\n",
      "334633     1       1\n",
      "334626     1       1\n",
      "334632     1       1\n",
      "334631     1       1\n",
      "116820     1       2\n",
      "116821     1       2\n",
      "116822     1       1\n",
      "334627     1       1\n",
      "274994     1       2\n",
      "The first 10 observations all have 'type' equal to 2 and 'promise' equal to '-'. The last 10 observations all have 'type' equal to 1, and 'promise' values are either 1 or 2. The meaning of the 'type' variable is not explicitly clear. It appears that 'type' might be a categorical variable with two levels (1 and 2)\n"
     ]
    }
   ],
   "source": [
    "sortedOrderData = orderData[['type', 'promise']].sort_values(by='type', ascending=False)\n",
    "print(sortedOrderData.head(10))\n",
    "print(sortedOrderData.tail(10))\n",
    "\n",
    "print(\"The first 10 observations all have 'type' equal to 2 and 'promise' equal to '-'. The last 10 observations all have 'type' equal to 1, and 'promise' values are either 1 or 2. The meaning of the 'type' variable is not explicitly clear. It appears that 'type' might be a categorical variable with two levels (1 and 2)\")"
   ]
  },
  {
   "cell_type": "markdown",
   "id": "0df0b8a6",
   "metadata": {},
   "source": [
    "Merge order and delivery tables, using inner merge."
   ]
  },
  {
   "cell_type": "code",
   "execution_count": 28,
   "id": "f3678054",
   "metadata": {},
   "outputs": [
    {
     "name": "stdout",
     "output_type": "stream",
     "text": [
      "Inner merge: An inner merge, combines two tables using a common key (in this case, 'order_ID') and includes only the rows where there is a match in the key between both tables. \n",
      "Number of observations in merged data 326862\n",
      "Number of observations in orders data 549989\n",
      "Number of observations in delivery data 293229\n",
      "The inner merge reveals that there is not a one-to-one match between orders and deliveries. Some orders lack delivery information, and some deliveries lack order information.\n"
     ]
    }
   ],
   "source": [
    "print(\"Inner merge: An inner merge, combines two tables using a common key (in this case, 'order_ID') and includes only the rows where there is a match in the key between both tables. \")\n",
    "\n",
    "innerMergedData = pd.merge(orderData, deliveryData, on='order_ID', how='inner')\n",
    "print(\"Number of observations in merged data\",innerMergedData.shape[0])\n",
    "print(\"Number of observations in orders data\",orderData.shape[0])\n",
    "print(\"Number of observations in delivery data\",deliveryData.shape[0])\n",
    "\n",
    "print(\"The inner merge reveals that there is not a one-to-one match between orders and deliveries. Some orders lack delivery information, and some deliveries lack order information.\")"
   ]
  },
  {
   "cell_type": "markdown",
   "id": "71c34250",
   "metadata": {},
   "source": [
    "Merge order and delivery tables, using right merge."
   ]
  },
  {
   "cell_type": "code",
   "execution_count": 29,
   "id": "8f086ba4",
   "metadata": {},
   "outputs": [
    {
     "name": "stdout",
     "output_type": "stream",
     "text": [
      "Right merge: A right merge (also known as a right join) combines two tables by including all the rows from the right table (in this case, the 'delivery' table) and the matching rows from the left table (in this case, the 'order' table). \n",
      "Number of observations after the right merge  326862\n",
      "In summary, the right merge includes all delivery records but may not include all orders, and some deliveries may not have matching order information.\n"
     ]
    }
   ],
   "source": [
    "print(\"Right merge: A right merge (also known as a right join) combines two tables by including all the rows from the right table (in this case, the 'delivery' table) and the matching rows from the left table (in this case, the 'order' table). \")\n",
    "\n",
    "rightMergedData = pd.merge(orderData, deliveryData, on='order_ID', how='right')\n",
    "print(\"Number of observations after the right merge \",rightMergedData.shape[0])\n",
    "\n",
    "print(\"In summary, the right merge includes all delivery records but may not include all orders, and some deliveries may not have matching order information.\")"
   ]
  },
  {
   "cell_type": "markdown",
   "id": "6b9bbe86",
   "metadata": {},
   "source": [
    "Merge order and delivery tables, using left merge."
   ]
  },
  {
   "cell_type": "code",
   "execution_count": 30,
   "id": "0c26a7f4",
   "metadata": {},
   "outputs": [
    {
     "name": "stdout",
     "output_type": "stream",
     "text": [
      "Left merge: A left merge (or left join) combines two tables by including all the rows from the left table (in this case, the 'order' table) and the matching rows from the right table (in this case, the 'delivery' table). \n",
      "Number of observations after the left merge  550017\n",
      "Number of observations in order table 549989\n",
      "In summary, the left merge includes all orders from the 'order' table but may also include additional delivery records that do not have matching order information. This additional information may correspond to deliveries without orders or might be due to data quality issues.\n"
     ]
    }
   ],
   "source": [
    "print(\"Left merge: A left merge (or left join) combines two tables by including all the rows from the left table (in this case, the 'order' table) and the matching rows from the right table (in this case, the 'delivery' table). \")\n",
    "leftMergedData = pd.merge(orderData, deliveryData, on='order_ID', how='left')\n",
    "\n",
    "print(\"Number of observations after the left merge \", leftMergedData.shape[0])\n",
    "print(\"Number of observations in order table\", orderData.shape[0])\n",
    "\n",
    "print(\"In summary, the left merge includes all orders from the 'order' table but may also include additional delivery records that do not have matching order information. This additional information may correspond to deliveries without orders or might be due to data quality issues.\")"
   ]
  },
  {
   "cell_type": "markdown",
   "id": "5f47c320",
   "metadata": {},
   "source": [
    "In this part, we prepare the data for analysis."
   ]
  },
  {
   "cell_type": "markdown",
   "id": "a3c58838",
   "metadata": {},
   "source": [
    "First, we need to clean the merged order and delivery table.<br>\n",
    "Identify the table from the inner merge in Q8. Take a look at it. You may find there are two variables: type_x and type_y, which were not in the original two tables.<br>\n",
    "The reason is that there is a type variable in both orders and delivery tables. The merge keeps both and assigned x and y suffix to them.<br>\n",
    "Check the meaning of the two variables in our data description.<br>\n",
    "To make the two variables consistent, we can replace the values of one variable to match the other."
   ]
  },
  {
   "cell_type": "code",
   "execution_count": 31,
   "id": "45855a47",
   "metadata": {},
   "outputs": [
    {
     "name": "stdout",
     "output_type": "stream",
     "text": [
      "<class 'pandas.core.frame.DataFrame'>\n",
      "Int64Index: 326862 entries, 0 to 326861\n",
      "Data columns (total 22 columns):\n",
      " #   Column                      Non-Null Count   Dtype  \n",
      "---  ------                      --------------   -----  \n",
      " 0   order_ID                    326862 non-null  object \n",
      " 1   user_ID                     326862 non-null  object \n",
      " 2   sku_ID                      326862 non-null  object \n",
      " 3   order_date                  326862 non-null  object \n",
      " 4   order_time                  326862 non-null  object \n",
      " 5   quantity                    326862 non-null  int64  \n",
      " 6   type_x                      326862 non-null  int64  \n",
      " 7   promise                     326862 non-null  object \n",
      " 8   original_unit_price         326862 non-null  float64\n",
      " 9   final_unit_price            326862 non-null  float64\n",
      " 10  direct_discount_per_unit    326862 non-null  float64\n",
      " 11  quantity_discount_per_unit  326862 non-null  float64\n",
      " 12  bundle_discount_per_unit    326862 non-null  float64\n",
      " 13  coupon_discount_per_unit    326862 non-null  float64\n",
      " 14  gift_item                   326862 non-null  int64  \n",
      " 15  dc_ori                      326862 non-null  int64  \n",
      " 16  dc_des                      326862 non-null  int64  \n",
      " 17  package_ID                  326862 non-null  object \n",
      " 18  type_y                      326862 non-null  int64  \n",
      " 19  ship_out_time               326862 non-null  object \n",
      " 20  arr_station_time            326862 non-null  object \n",
      " 21  arr_time                    326862 non-null  object \n",
      "dtypes: float64(6), int64(6), object(10)\n",
      "memory usage: 57.4+ MB\n"
     ]
    }
   ],
   "source": [
    "innerMergedData.info()\n",
    "innerMergedData['type_x'] = innerMergedData['type_y'].combine_first(innerMergedData['type_x'])"
   ]
  },
  {
   "cell_type": "markdown",
   "id": "71e74326",
   "metadata": {},
   "source": [
    "Then compare the values of the two variables are the same."
   ]
  },
  {
   "cell_type": "code",
   "execution_count": 32,
   "id": "4a5a220e",
   "metadata": {},
   "outputs": [
    {
     "name": "stdout",
     "output_type": "stream",
     "text": [
      "Are the values consistent?  True\n"
     ]
    }
   ],
   "source": [
    "print(\"Are the values consistent? \", (innerMergedData['type_x'] == innerMergedData['type_y']).all())"
   ]
  },
  {
   "cell_type": "markdown",
   "id": "caa13f03",
   "metadata": {},
   "source": [
    "If they are, please drop one of them."
   ]
  },
  {
   "cell_type": "code",
   "execution_count": 33,
   "id": "ddb5d3d9",
   "metadata": {},
   "outputs": [
    {
     "name": "stdout",
     "output_type": "stream",
     "text": [
      "<class 'pandas.core.frame.DataFrame'>\n",
      "Int64Index: 326862 entries, 0 to 326861\n",
      "Data columns (total 21 columns):\n",
      " #   Column                      Non-Null Count   Dtype  \n",
      "---  ------                      --------------   -----  \n",
      " 0   order_ID                    326862 non-null  object \n",
      " 1   user_ID                     326862 non-null  object \n",
      " 2   sku_ID                      326862 non-null  object \n",
      " 3   order_date                  326862 non-null  object \n",
      " 4   order_time                  326862 non-null  object \n",
      " 5   quantity                    326862 non-null  int64  \n",
      " 6   type_x                      326862 non-null  int64  \n",
      " 7   promise                     326862 non-null  object \n",
      " 8   original_unit_price         326862 non-null  float64\n",
      " 9   final_unit_price            326862 non-null  float64\n",
      " 10  direct_discount_per_unit    326862 non-null  float64\n",
      " 11  quantity_discount_per_unit  326862 non-null  float64\n",
      " 12  bundle_discount_per_unit    326862 non-null  float64\n",
      " 13  coupon_discount_per_unit    326862 non-null  float64\n",
      " 14  gift_item                   326862 non-null  int64  \n",
      " 15  dc_ori                      326862 non-null  int64  \n",
      " 16  dc_des                      326862 non-null  int64  \n",
      " 17  package_ID                  326862 non-null  object \n",
      " 18  ship_out_time               326862 non-null  object \n",
      " 19  arr_station_time            326862 non-null  object \n",
      " 20  arr_time                    326862 non-null  object \n",
      "dtypes: float64(6), int64(5), object(10)\n",
      "memory usage: 54.9+ MB\n"
     ]
    }
   ],
   "source": [
    "innerMergedData = innerMergedData.drop(columns=['type_y'])\n",
    "innerMergedData.info()"
   ]
  },
  {
   "cell_type": "markdown",
   "id": "64cefd13",
   "metadata": {},
   "source": [
    "We need to remove the orders that <br>\n",
    "1) has a single item; <br>\n",
    "2) the item is a gift item;<br>\n",
    "\n",
    "The reason is that those orders might have come from other product categories and only use products from current category as a gift. We do not have information about those orders."
   ]
  },
  {
   "cell_type": "markdown",
   "id": "f9338863",
   "metadata": {},
   "source": [
    "We first find orders with order_ID only appears once in the data, which indicates this order contains a single item.<br>\n",
    "Hint: you may use .duplicated() method to mark that. Think about which value of the argument 'keep' you want to choose. Consider saving the outcome as a variable."
   ]
  },
  {
   "cell_type": "code",
   "execution_count": 34,
   "id": "4dc1e8c7",
   "metadata": {},
   "outputs": [
    {
     "name": "stdout",
     "output_type": "stream",
     "text": [
      "          order_ID     user_ID      sku_ID  order_date             order_time  \\\n",
      "0       7444318d01  33a9e56257  067b673f2b  2018-03-01  2018-03-01 11:10:40.0   \n",
      "1       f973b01694  4ea3cf408f  623d0a582a  2018-03-01  2018-03-01 09:13:26.0   \n",
      "2       8c1cec8d4b  b87cb736cb  fc5289b139  2018-03-01  2018-03-01 21:29:50.0   \n",
      "3       d43a33c38a  4829223b6f  623d0a582a  2018-03-01  2018-03-01 19:13:37.0   \n",
      "4       e0f5386d87  0b07cae293  589c2b865b  2018-03-01  2018-03-01 21:09:15.0   \n",
      "...            ...         ...         ...         ...                    ...   \n",
      "326857  5fd298d448  165ee3e319  f7280c119d  2018-03-31  2018-03-31 12:42:35.0   \n",
      "326858  9fa0694b3b  39933e9bc6  767ac490ed  2018-03-31  2018-03-31 19:51:43.0   \n",
      "326859  c9d77a7ed0  18f92434cd  7f53769d3f  2018-03-31  2018-03-31 08:55:57.0   \n",
      "326860  b9ad79338f  b5caf8a580  8dc4a01dec  2018-03-31  2018-03-31 13:31:01.0   \n",
      "326861  02d31f05c9  f260895cbe  10d369ef96  2018-03-31  2018-03-31 18:21:16.0   \n",
      "\n",
      "        quantity  type_x promise  original_unit_price  final_unit_price  ...  \\\n",
      "0              1       1       2                 99.9              53.9  ...   \n",
      "1              1       1       2                 78.0              58.5  ...   \n",
      "2              1       1       2                 61.0              35.0  ...   \n",
      "3              1       1       1                 78.0              53.0  ...   \n",
      "4              1       1       1                 79.9              38.9  ...   \n",
      "...          ...     ...     ...                  ...               ...  ...   \n",
      "326857         1       0       3                269.0             189.0  ...   \n",
      "326858         1       1       2                  0.0              -1.0  ...   \n",
      "326859         1       1       3                118.0              55.0  ...   \n",
      "326860         1       1       2                 78.0              78.0  ...   \n",
      "326861         1       0       4                 68.0              49.0  ...   \n",
      "\n",
      "        bundle_discount_per_unit  coupon_discount_per_unit  gift_item  dc_ori  \\\n",
      "0                            0.0                       0.0          0      28   \n",
      "1                            0.0                       0.0          0      28   \n",
      "2                            0.0                       0.0          0       4   \n",
      "3                            0.0                       6.0          0       3   \n",
      "4                            0.0                       0.0          0       3   \n",
      "...                          ...                       ...        ...     ...   \n",
      "326857                       0.0                       0.0          0       2   \n",
      "326858                       0.0                       0.0          1       2   \n",
      "326859                       0.0                       0.0          0      59   \n",
      "326860                       0.0                       0.0          0       2   \n",
      "326861                       0.0                       0.0          0       4   \n",
      "\n",
      "        dc_des  package_ID        ship_out_time     arr_station_time  \\\n",
      "0           28  7444318d01  2018-03-01 13:00:00  2018-03-02 08:00:00   \n",
      "1           28  f973b01694  2018-03-01 14:00:00  2018-03-02 09:00:00   \n",
      "2           28  8c1cec8d4b  2018-03-02 09:00:00  2018-03-03 08:00:00   \n",
      "3           16  d43a33c38a  2018-03-01 20:00:00  2018-03-02 07:00:00   \n",
      "4           16  e0f5386d87  2018-03-01 22:00:00  2018-03-02 09:00:00   \n",
      "...        ...         ...                  ...                  ...   \n",
      "326857       2  1b81523e8d  2018-03-31 13:00:00  2018-04-02 07:00:00   \n",
      "326858       2  9fa0694b3b  2018-03-31 21:00:00  2018-04-01 07:00:00   \n",
      "326859       2  c9d77a7ed0  2018-03-31 11:00:00  2018-04-02 07:00:00   \n",
      "326860       2  b9ad79338f  2018-03-31 14:00:00  2018-04-01 07:00:00   \n",
      "326861      28  1722a36a69  2018-04-01 14:00:00  2018-04-05 08:00:00   \n",
      "\n",
      "                   arr_time single_item_order  \n",
      "0       2018-03-02 14:00:00              True  \n",
      "1       2018-03-02 13:00:00              True  \n",
      "2       2018-03-04 11:00:00              True  \n",
      "3       2018-03-02 11:00:00              True  \n",
      "4       2018-03-02 12:00:00              True  \n",
      "...                     ...               ...  \n",
      "326857  2018-04-02 13:00:00              True  \n",
      "326858  2018-04-01 10:00:00              True  \n",
      "326859  2018-04-02 15:00:00              True  \n",
      "326860  2018-04-01 11:00:00              True  \n",
      "326861  2018-04-05 13:00:00              True  \n",
      "\n",
      "[326862 rows x 22 columns]\n"
     ]
    }
   ],
   "source": [
    "single_item_orders = innerMergedData['order_ID'].duplicated(keep=False)\n",
    "innerMergedData['single_item_order'] = ~single_item_orders\n",
    "print(innerMergedData)"
   ]
  },
  {
   "cell_type": "markdown",
   "id": "e4ca8fbb",
   "metadata": {},
   "source": [
    "Then we filter the data to remove those orders of a single gift item. Save the changes."
   ]
  },
  {
   "cell_type": "code",
   "execution_count": 35,
   "id": "e59c8837",
   "metadata": {},
   "outputs": [
    {
     "name": "stdout",
     "output_type": "stream",
     "text": [
      "          order_ID     user_ID      sku_ID  order_date             order_time  \\\n",
      "0       7444318d01  33a9e56257  067b673f2b  2018-03-01  2018-03-01 11:10:40.0   \n",
      "1       f973b01694  4ea3cf408f  623d0a582a  2018-03-01  2018-03-01 09:13:26.0   \n",
      "2       8c1cec8d4b  b87cb736cb  fc5289b139  2018-03-01  2018-03-01 21:29:50.0   \n",
      "3       d43a33c38a  4829223b6f  623d0a582a  2018-03-01  2018-03-01 19:13:37.0   \n",
      "4       e0f5386d87  0b07cae293  589c2b865b  2018-03-01  2018-03-01 21:09:15.0   \n",
      "...            ...         ...         ...         ...                    ...   \n",
      "326856  a4a2f1df1a  5240164ed9  7f53769d3f  2018-03-31  2018-03-31 13:47:52.0   \n",
      "326857  5fd298d448  165ee3e319  f7280c119d  2018-03-31  2018-03-31 12:42:35.0   \n",
      "326859  c9d77a7ed0  18f92434cd  7f53769d3f  2018-03-31  2018-03-31 08:55:57.0   \n",
      "326860  b9ad79338f  b5caf8a580  8dc4a01dec  2018-03-31  2018-03-31 13:31:01.0   \n",
      "326861  02d31f05c9  f260895cbe  10d369ef96  2018-03-31  2018-03-31 18:21:16.0   \n",
      "\n",
      "        quantity  type_x promise  original_unit_price  final_unit_price  ...  \\\n",
      "0              1       1       2                 99.9              53.9  ...   \n",
      "1              1       1       2                 78.0              58.5  ...   \n",
      "2              1       1       2                 61.0              35.0  ...   \n",
      "3              1       1       1                 78.0              53.0  ...   \n",
      "4              1       1       1                 79.9              38.9  ...   \n",
      "...          ...     ...     ...                  ...               ...  ...   \n",
      "326856         1       1       3                118.0              55.0  ...   \n",
      "326857         1       0       3                269.0             189.0  ...   \n",
      "326859         1       1       3                118.0              55.0  ...   \n",
      "326860         1       1       2                 78.0              78.0  ...   \n",
      "326861         1       0       4                 68.0              49.0  ...   \n",
      "\n",
      "        bundle_discount_per_unit  coupon_discount_per_unit  gift_item  dc_ori  \\\n",
      "0                            0.0                       0.0          0      28   \n",
      "1                            0.0                       0.0          0      28   \n",
      "2                            0.0                       0.0          0       4   \n",
      "3                            0.0                       6.0          0       3   \n",
      "4                            0.0                       0.0          0       3   \n",
      "...                          ...                       ...        ...     ...   \n",
      "326856                       0.0                       0.0          0      59   \n",
      "326857                       0.0                       0.0          0       2   \n",
      "326859                       0.0                       0.0          0      59   \n",
      "326860                       0.0                       0.0          0       2   \n",
      "326861                       0.0                       0.0          0       4   \n",
      "\n",
      "        dc_des  package_ID        ship_out_time     arr_station_time  \\\n",
      "0           28  7444318d01  2018-03-01 13:00:00  2018-03-02 08:00:00   \n",
      "1           28  f973b01694  2018-03-01 14:00:00  2018-03-02 09:00:00   \n",
      "2           28  8c1cec8d4b  2018-03-02 09:00:00  2018-03-03 08:00:00   \n",
      "3           16  d43a33c38a  2018-03-01 20:00:00  2018-03-02 07:00:00   \n",
      "4           16  e0f5386d87  2018-03-01 22:00:00  2018-03-02 09:00:00   \n",
      "...        ...         ...                  ...                  ...   \n",
      "326856       2  a4a2f1df1a  2018-03-31 15:00:00  2018-04-02 07:00:00   \n",
      "326857       2  1b81523e8d  2018-03-31 13:00:00  2018-04-02 07:00:00   \n",
      "326859       2  c9d77a7ed0  2018-03-31 11:00:00  2018-04-02 07:00:00   \n",
      "326860       2  b9ad79338f  2018-03-31 14:00:00  2018-04-01 07:00:00   \n",
      "326861      28  1722a36a69  2018-04-01 14:00:00  2018-04-05 08:00:00   \n",
      "\n",
      "                   arr_time single_item_order  \n",
      "0       2018-03-02 14:00:00              True  \n",
      "1       2018-03-02 13:00:00              True  \n",
      "2       2018-03-04 11:00:00              True  \n",
      "3       2018-03-02 11:00:00              True  \n",
      "4       2018-03-02 12:00:00              True  \n",
      "...                     ...               ...  \n",
      "326856  2018-04-02 12:00:00              True  \n",
      "326857  2018-04-02 13:00:00              True  \n",
      "326859  2018-04-02 15:00:00              True  \n",
      "326860  2018-04-01 11:00:00              True  \n",
      "326861  2018-04-05 13:00:00              True  \n",
      "\n",
      "[314539 rows x 22 columns]\n"
     ]
    }
   ],
   "source": [
    "filtered_table = innerMergedData[~((innerMergedData['single_item_order']) & (innerMergedData['gift_item'] == 1))]\n",
    "print(filtered_table)"
   ]
  },
  {
   "cell_type": "markdown",
   "id": "a6834bef",
   "metadata": {},
   "source": [
    "Next, we remove orders with multiple packages. Hint: You may groupby order_ID, find the number of unique package_ID ('nunique') and then use transform() to broadcast the value to all record. Save the results as a new variable. Use the variable value to filter."
   ]
  },
  {
   "cell_type": "code",
   "execution_count": 59,
   "id": "d04379c4",
   "metadata": {},
   "outputs": [
    {
     "name": "stdout",
     "output_type": "stream",
     "text": [
      "0         1\n",
      "1         1\n",
      "2         1\n",
      "3         1\n",
      "4         1\n",
      "         ..\n",
      "326856    1\n",
      "326857    1\n",
      "326859    1\n",
      "326860    1\n",
      "326861    1\n",
      "Name: package_ID, Length: 312430, dtype: int64 ------\n",
      "          order_ID     user_ID      sku_ID order_date          order_time  \\\n",
      "0       7444318d01  33a9e56257  067b673f2b 2018-03-01 2018-03-01 11:10:40   \n",
      "1       f973b01694  4ea3cf408f  623d0a582a 2018-03-01 2018-03-01 09:13:26   \n",
      "2       8c1cec8d4b  b87cb736cb  fc5289b139 2018-03-01 2018-03-01 21:29:50   \n",
      "3       d43a33c38a  4829223b6f  623d0a582a 2018-03-01 2018-03-01 19:13:37   \n",
      "4       e0f5386d87  0b07cae293  589c2b865b 2018-03-01 2018-03-01 21:09:15   \n",
      "...            ...         ...         ...        ...                 ...   \n",
      "326856  a4a2f1df1a  5240164ed9  7f53769d3f 2018-03-31 2018-03-31 13:47:52   \n",
      "326857  5fd298d448  165ee3e319  f7280c119d 2018-03-31 2018-03-31 12:42:35   \n",
      "326859  c9d77a7ed0  18f92434cd  7f53769d3f 2018-03-31 2018-03-31 08:55:57   \n",
      "326860  b9ad79338f  b5caf8a580  8dc4a01dec 2018-03-31 2018-03-31 13:31:01   \n",
      "326861  02d31f05c9  f260895cbe  10d369ef96 2018-03-31 2018-03-31 18:21:16   \n",
      "\n",
      "        quantity  type_x promise  original_unit_price  final_unit_price  ...  \\\n",
      "0              1       1       2                 99.9              53.9  ...   \n",
      "1              1       1       2                 78.0              58.5  ...   \n",
      "2              1       1       2                 61.0              35.0  ...   \n",
      "3              1       1       1                 78.0              53.0  ...   \n",
      "4              1       1       1                 79.9              38.9  ...   \n",
      "...          ...     ...     ...                  ...               ...  ...   \n",
      "326856         1       1       3                118.0              55.0  ...   \n",
      "326857         1       0       3                269.0             189.0  ...   \n",
      "326859         1       1       3                118.0              55.0  ...   \n",
      "326860         1       1       2                 78.0              78.0  ...   \n",
      "326861         1       0       4                 68.0              49.0  ...   \n",
      "\n",
      "             ship_out_time    arr_station_time            arr_time  \\\n",
      "0      2018-03-01 13:00:00 2018-03-02 08:00:00 2018-03-02 14:00:00   \n",
      "1      2018-03-01 14:00:00 2018-03-02 09:00:00 2018-03-02 13:00:00   \n",
      "2      2018-03-02 09:00:00 2018-03-03 08:00:00 2018-03-04 11:00:00   \n",
      "3      2018-03-01 20:00:00 2018-03-02 07:00:00 2018-03-02 11:00:00   \n",
      "4      2018-03-01 22:00:00 2018-03-02 09:00:00 2018-03-02 12:00:00   \n",
      "...                    ...                 ...                 ...   \n",
      "326856 2018-03-31 15:00:00 2018-04-02 07:00:00 2018-04-02 12:00:00   \n",
      "326857 2018-03-31 13:00:00 2018-04-02 07:00:00 2018-04-02 13:00:00   \n",
      "326859 2018-03-31 11:00:00 2018-04-02 07:00:00 2018-04-02 15:00:00   \n",
      "326860 2018-03-31 14:00:00 2018-04-01 07:00:00 2018-04-01 11:00:00   \n",
      "326861 2018-04-01 14:00:00 2018-04-05 08:00:00 2018-04-05 13:00:00   \n",
      "\n",
      "        single_item_order  multiple_packages  order_day  order_hour  \\\n",
      "0                    True              False          1          11   \n",
      "1                    True              False          1           9   \n",
      "2                    True              False          1          21   \n",
      "3                    True              False          1          19   \n",
      "4                    True              False          1          21   \n",
      "...                   ...                ...        ...         ...   \n",
      "326856               True              False         31          13   \n",
      "326857               True              False         31          12   \n",
      "326859               True              False         31           8   \n",
      "326860               True              False         31          13   \n",
      "326861               True              False         31          18   \n",
      "\n",
      "         delivery_time delivery_time_hours  sales  \n",
      "0      1 days 02:49:20           26.822222   53.9  \n",
      "1      1 days 03:46:34           27.776111   58.5  \n",
      "2      2 days 13:30:10           61.502778   35.0  \n",
      "3      0 days 15:46:23           15.773056   53.0  \n",
      "4      0 days 14:50:45           14.845833   38.9  \n",
      "...                ...                 ...    ...  \n",
      "326856 1 days 22:12:08           46.202222   55.0  \n",
      "326857 2 days 00:17:25           48.290278  189.0  \n",
      "326859 2 days 06:04:03           54.067500   55.0  \n",
      "326860 0 days 21:28:59           21.483056   78.0  \n",
      "326861 4 days 18:38:44          114.645556   49.0  \n",
      "\n",
      "[312430 rows x 28 columns]\n",
      "          order_ID     user_ID      sku_ID order_date          order_time  \\\n",
      "0       7444318d01  33a9e56257  067b673f2b 2018-03-01 2018-03-01 11:10:40   \n",
      "1       f973b01694  4ea3cf408f  623d0a582a 2018-03-01 2018-03-01 09:13:26   \n",
      "2       8c1cec8d4b  b87cb736cb  fc5289b139 2018-03-01 2018-03-01 21:29:50   \n",
      "3       d43a33c38a  4829223b6f  623d0a582a 2018-03-01 2018-03-01 19:13:37   \n",
      "4       e0f5386d87  0b07cae293  589c2b865b 2018-03-01 2018-03-01 21:09:15   \n",
      "...            ...         ...         ...        ...                 ...   \n",
      "326856  a4a2f1df1a  5240164ed9  7f53769d3f 2018-03-31 2018-03-31 13:47:52   \n",
      "326857  5fd298d448  165ee3e319  f7280c119d 2018-03-31 2018-03-31 12:42:35   \n",
      "326859  c9d77a7ed0  18f92434cd  7f53769d3f 2018-03-31 2018-03-31 08:55:57   \n",
      "326860  b9ad79338f  b5caf8a580  8dc4a01dec 2018-03-31 2018-03-31 13:31:01   \n",
      "326861  02d31f05c9  f260895cbe  10d369ef96 2018-03-31 2018-03-31 18:21:16   \n",
      "\n",
      "        quantity  type_x promise  original_unit_price  final_unit_price  ...  \\\n",
      "0              1       1       2                 99.9              53.9  ...   \n",
      "1              1       1       2                 78.0              58.5  ...   \n",
      "2              1       1       2                 61.0              35.0  ...   \n",
      "3              1       1       1                 78.0              53.0  ...   \n",
      "4              1       1       1                 79.9              38.9  ...   \n",
      "...          ...     ...     ...                  ...               ...  ...   \n",
      "326856         1       1       3                118.0              55.0  ...   \n",
      "326857         1       0       3                269.0             189.0  ...   \n",
      "326859         1       1       3                118.0              55.0  ...   \n",
      "326860         1       1       2                 78.0              78.0  ...   \n",
      "326861         1       0       4                 68.0              49.0  ...   \n",
      "\n",
      "             ship_out_time    arr_station_time            arr_time  \\\n",
      "0      2018-03-01 13:00:00 2018-03-02 08:00:00 2018-03-02 14:00:00   \n",
      "1      2018-03-01 14:00:00 2018-03-02 09:00:00 2018-03-02 13:00:00   \n",
      "2      2018-03-02 09:00:00 2018-03-03 08:00:00 2018-03-04 11:00:00   \n",
      "3      2018-03-01 20:00:00 2018-03-02 07:00:00 2018-03-02 11:00:00   \n",
      "4      2018-03-01 22:00:00 2018-03-02 09:00:00 2018-03-02 12:00:00   \n",
      "...                    ...                 ...                 ...   \n",
      "326856 2018-03-31 15:00:00 2018-04-02 07:00:00 2018-04-02 12:00:00   \n",
      "326857 2018-03-31 13:00:00 2018-04-02 07:00:00 2018-04-02 13:00:00   \n",
      "326859 2018-03-31 11:00:00 2018-04-02 07:00:00 2018-04-02 15:00:00   \n",
      "326860 2018-03-31 14:00:00 2018-04-01 07:00:00 2018-04-01 11:00:00   \n",
      "326861 2018-04-01 14:00:00 2018-04-05 08:00:00 2018-04-05 13:00:00   \n",
      "\n",
      "        single_item_order  multiple_packages  order_day  order_hour  \\\n",
      "0                    True              False          1          11   \n",
      "1                    True              False          1           9   \n",
      "2                    True              False          1          21   \n",
      "3                    True              False          1          19   \n",
      "4                    True              False          1          21   \n",
      "...                   ...                ...        ...         ...   \n",
      "326856               True              False         31          13   \n",
      "326857               True              False         31          12   \n",
      "326859               True              False         31           8   \n",
      "326860               True              False         31          13   \n",
      "326861               True              False         31          18   \n",
      "\n",
      "         delivery_time delivery_time_hours  sales  \n",
      "0      1 days 02:49:20           26.822222   53.9  \n",
      "1      1 days 03:46:34           27.776111   58.5  \n",
      "2      2 days 13:30:10           61.502778   35.0  \n",
      "3      0 days 15:46:23           15.773056   53.0  \n",
      "4      0 days 14:50:45           14.845833   38.9  \n",
      "...                ...                 ...    ...  \n",
      "326856 1 days 22:12:08           46.202222   55.0  \n",
      "326857 2 days 00:17:25           48.290278  189.0  \n",
      "326859 2 days 06:04:03           54.067500   55.0  \n",
      "326860 0 days 21:28:59           21.483056   78.0  \n",
      "326861 4 days 18:38:44          114.645556   49.0  \n",
      "\n",
      "[312430 rows x 28 columns]\n"
     ]
    }
   ],
   "source": [
    "# Compute the count of unique packages per order\n",
    "package_counts = filtered_table.groupby('order_ID')['package_ID'].transform('nunique')\n",
    "print(package_counts, \"------\")\n",
    "\n",
    "# Create a new column to indicate orders with multiple packages\n",
    "filtered_table = filtered_table.copy()  # Ensure no SettingWithCopyWarning\n",
    "filtered_table['multiple_packages'] = package_counts > 1\n",
    "print(filtered_table)\n",
    "\n",
    "# Filter out orders with multiple packages\n",
    "filtered_table = filtered_table[~filtered_table['multiple_packages']].copy()\n",
    "print(filtered_table)\n"
   ]
  },
  {
   "cell_type": "markdown",
   "id": "c334d96d",
   "metadata": {},
   "source": [
    "Now we process time-related variables: order_date, order_time, ship_out_time, arr_station_time, and arr_time. <br>\n",
    "First change all of them to Timestamp data type. <br>\n",
    "Get the day of the month from the order_date and save it to a new variable 'order_day'. <br>\n",
    "Get the hour of the order_time and save it to a new variable 'order_hour'.<br>\n",
    "Caculate the delivery time by minus arr_time with order_time. <br>"
   ]
  },
  {
   "cell_type": "code",
   "execution_count": 60,
   "id": "4b24e87e",
   "metadata": {},
   "outputs": [],
   "source": [
    "time_cols = ['order_date', 'order_time', 'ship_out_time', 'arr_station_time', 'arr_time']\n",
    "filtered_table[time_cols] = filtered_table[time_cols].apply(pd.to_datetime)"
   ]
  },
  {
   "cell_type": "code",
   "execution_count": 61,
   "id": "1661fa79",
   "metadata": {},
   "outputs": [],
   "source": [
    "filtered_table['order_day'] = filtered_table['order_date'].dt.day"
   ]
  },
  {
   "cell_type": "code",
   "execution_count": 62,
   "id": "4868408c",
   "metadata": {},
   "outputs": [],
   "source": [
    "filtered_table['order_hour'] = filtered_table['order_time'].dt.hour"
   ]
  },
  {
   "cell_type": "code",
   "execution_count": 63,
   "id": "303320fa",
   "metadata": {},
   "outputs": [
    {
     "name": "stdout",
     "output_type": "stream",
     "text": [
      "          order_ID     user_ID      sku_ID order_date          order_time  \\\n",
      "0       7444318d01  33a9e56257  067b673f2b 2018-03-01 2018-03-01 11:10:40   \n",
      "1       f973b01694  4ea3cf408f  623d0a582a 2018-03-01 2018-03-01 09:13:26   \n",
      "2       8c1cec8d4b  b87cb736cb  fc5289b139 2018-03-01 2018-03-01 21:29:50   \n",
      "3       d43a33c38a  4829223b6f  623d0a582a 2018-03-01 2018-03-01 19:13:37   \n",
      "4       e0f5386d87  0b07cae293  589c2b865b 2018-03-01 2018-03-01 21:09:15   \n",
      "...            ...         ...         ...        ...                 ...   \n",
      "326856  a4a2f1df1a  5240164ed9  7f53769d3f 2018-03-31 2018-03-31 13:47:52   \n",
      "326857  5fd298d448  165ee3e319  f7280c119d 2018-03-31 2018-03-31 12:42:35   \n",
      "326859  c9d77a7ed0  18f92434cd  7f53769d3f 2018-03-31 2018-03-31 08:55:57   \n",
      "326860  b9ad79338f  b5caf8a580  8dc4a01dec 2018-03-31 2018-03-31 13:31:01   \n",
      "326861  02d31f05c9  f260895cbe  10d369ef96 2018-03-31 2018-03-31 18:21:16   \n",
      "\n",
      "        quantity  type_x promise  original_unit_price  final_unit_price  ...  \\\n",
      "0              1       1       2                 99.9              53.9  ...   \n",
      "1              1       1       2                 78.0              58.5  ...   \n",
      "2              1       1       2                 61.0              35.0  ...   \n",
      "3              1       1       1                 78.0              53.0  ...   \n",
      "4              1       1       1                 79.9              38.9  ...   \n",
      "...          ...     ...     ...                  ...               ...  ...   \n",
      "326856         1       1       3                118.0              55.0  ...   \n",
      "326857         1       0       3                269.0             189.0  ...   \n",
      "326859         1       1       3                118.0              55.0  ...   \n",
      "326860         1       1       2                 78.0              78.0  ...   \n",
      "326861         1       0       4                 68.0              49.0  ...   \n",
      "\n",
      "             ship_out_time    arr_station_time            arr_time  \\\n",
      "0      2018-03-01 13:00:00 2018-03-02 08:00:00 2018-03-02 14:00:00   \n",
      "1      2018-03-01 14:00:00 2018-03-02 09:00:00 2018-03-02 13:00:00   \n",
      "2      2018-03-02 09:00:00 2018-03-03 08:00:00 2018-03-04 11:00:00   \n",
      "3      2018-03-01 20:00:00 2018-03-02 07:00:00 2018-03-02 11:00:00   \n",
      "4      2018-03-01 22:00:00 2018-03-02 09:00:00 2018-03-02 12:00:00   \n",
      "...                    ...                 ...                 ...   \n",
      "326856 2018-03-31 15:00:00 2018-04-02 07:00:00 2018-04-02 12:00:00   \n",
      "326857 2018-03-31 13:00:00 2018-04-02 07:00:00 2018-04-02 13:00:00   \n",
      "326859 2018-03-31 11:00:00 2018-04-02 07:00:00 2018-04-02 15:00:00   \n",
      "326860 2018-03-31 14:00:00 2018-04-01 07:00:00 2018-04-01 11:00:00   \n",
      "326861 2018-04-01 14:00:00 2018-04-05 08:00:00 2018-04-05 13:00:00   \n",
      "\n",
      "        single_item_order  multiple_packages  order_day  order_hour  \\\n",
      "0                    True              False          1          11   \n",
      "1                    True              False          1           9   \n",
      "2                    True              False          1          21   \n",
      "3                    True              False          1          19   \n",
      "4                    True              False          1          21   \n",
      "...                   ...                ...        ...         ...   \n",
      "326856               True              False         31          13   \n",
      "326857               True              False         31          12   \n",
      "326859               True              False         31           8   \n",
      "326860               True              False         31          13   \n",
      "326861               True              False         31          18   \n",
      "\n",
      "         delivery_time delivery_time_hours  sales  \n",
      "0      1 days 02:49:20           26.822222   53.9  \n",
      "1      1 days 03:46:34           27.776111   58.5  \n",
      "2      2 days 13:30:10           61.502778   35.0  \n",
      "3      0 days 15:46:23           15.773056   53.0  \n",
      "4      0 days 14:50:45           14.845833   38.9  \n",
      "...                ...                 ...    ...  \n",
      "326856 1 days 22:12:08           46.202222   55.0  \n",
      "326857 2 days 00:17:25           48.290278  189.0  \n",
      "326859 2 days 06:04:03           54.067500   55.0  \n",
      "326860 0 days 21:28:59           21.483056   78.0  \n",
      "326861 4 days 18:38:44          114.645556   49.0  \n",
      "\n",
      "[312430 rows x 28 columns]\n"
     ]
    }
   ],
   "source": [
    "filtered_table['delivery_time'] = filtered_table['arr_time'] - filtered_table['order_time']\n",
    "\n",
    "print(filtered_table)"
   ]
  },
  {
   "cell_type": "markdown",
   "id": "bfa148fb",
   "metadata": {},
   "source": [
    "We will transform the delivery time to hours. Hint: You can use total_seconds() method to turn it into seconds and find hours."
   ]
  },
  {
   "cell_type": "code",
   "execution_count": 64,
   "id": "9e7052a2",
   "metadata": {},
   "outputs": [
    {
     "name": "stdout",
     "output_type": "stream",
     "text": [
      "<class 'pandas.core.frame.DataFrame'>\n",
      "Int64Index: 312430 entries, 0 to 326861\n",
      "Data columns (total 28 columns):\n",
      " #   Column                      Non-Null Count   Dtype          \n",
      "---  ------                      --------------   -----          \n",
      " 0   order_ID                    312430 non-null  object         \n",
      " 1   user_ID                     312430 non-null  object         \n",
      " 2   sku_ID                      312430 non-null  object         \n",
      " 3   order_date                  312430 non-null  datetime64[ns] \n",
      " 4   order_time                  312430 non-null  datetime64[ns] \n",
      " 5   quantity                    312430 non-null  int64          \n",
      " 6   type_x                      312430 non-null  int64          \n",
      " 7   promise                     312430 non-null  object         \n",
      " 8   original_unit_price         312430 non-null  float64        \n",
      " 9   final_unit_price            312430 non-null  float64        \n",
      " 10  direct_discount_per_unit    312430 non-null  float64        \n",
      " 11  quantity_discount_per_unit  312430 non-null  float64        \n",
      " 12  bundle_discount_per_unit    312430 non-null  float64        \n",
      " 13  coupon_discount_per_unit    312430 non-null  float64        \n",
      " 14  gift_item                   312430 non-null  int64          \n",
      " 15  dc_ori                      312430 non-null  int64          \n",
      " 16  dc_des                      312430 non-null  int64          \n",
      " 17  package_ID                  312430 non-null  object         \n",
      " 18  ship_out_time               312430 non-null  datetime64[ns] \n",
      " 19  arr_station_time            312430 non-null  datetime64[ns] \n",
      " 20  arr_time                    312430 non-null  datetime64[ns] \n",
      " 21  single_item_order           312430 non-null  bool           \n",
      " 22  multiple_packages           312430 non-null  bool           \n",
      " 23  order_day                   312430 non-null  int64          \n",
      " 24  order_hour                  312430 non-null  int64          \n",
      " 25  delivery_time               312430 non-null  timedelta64[ns]\n",
      " 26  delivery_time_hours         312430 non-null  float64        \n",
      " 27  sales                       312430 non-null  float64        \n",
      "dtypes: bool(2), datetime64[ns](5), float64(8), int64(7), object(5), timedelta64[ns](1)\n",
      "memory usage: 65.0+ MB\n",
      "None\n"
     ]
    }
   ],
   "source": [
    "filtered_table['delivery_time_hours'] = filtered_table['delivery_time'].apply(lambda x: x.total_seconds() / 3600)\n",
    "print(filtered_table.info())"
   ]
  },
  {
   "cell_type": "markdown",
   "id": "607f416f",
   "metadata": {},
   "source": [
    "Find the total number of packages between the origin distribution center and the destination center.<br>"
   ]
  },
  {
   "cell_type": "code",
   "execution_count": 65,
   "id": "6beaa5ac",
   "metadata": {
    "scrolled": true
   },
   "outputs": [
    {
     "name": "stdout",
     "output_type": "stream",
     "text": [
      "Pairs with Highest Traffic:\n",
      "     dc_ori  dc_des  package_ID\n",
      "31        5       5       29834\n",
      "6         2       2       22389\n",
      "71        9       9       22046\n",
      "23        4       4       19842\n",
      "120      24      24       12162\n"
     ]
    }
   ],
   "source": [
    "package_counts = filtered_table.groupby(['dc_ori', 'dc_des'])['package_ID'].nunique().reset_index()\n",
    "\n",
    "# Sort by the total number of packages in descending order\n",
    "sorted_package_counts = package_counts.sort_values(by='package_ID', ascending=False)\n",
    "\n",
    "# Display the pairs with the highest traffic\n",
    "highest_traffic_pairs = sorted_package_counts.head()\n",
    "\n",
    "# Print the result\n",
    "print(\"Pairs with Highest Traffic:\")\n",
    "print(highest_traffic_pairs)"
   ]
  },
  {
   "cell_type": "markdown",
   "id": "11d6ed80",
   "metadata": {},
   "source": [
    "Now let's go back to the original orders table. Find the orders where gift_item equals to 1 (use filtering)."
   ]
  },
  {
   "cell_type": "code",
   "execution_count": 66,
   "id": "0e177d92",
   "metadata": {
    "scrolled": true
   },
   "outputs": [
    {
     "name": "stdout",
     "output_type": "stream",
     "text": [
      "order data           order_ID     user_ID      sku_ID  order_date             order_time  \\\n",
      "0       d0cf5cc6db  0abe9ef2ce  581d5b54c1  2018-03-01  2018-03-01 17:14:25.0   \n",
      "1       7444318d01  33a9e56257  067b673f2b  2018-03-01  2018-03-01 11:10:40.0   \n",
      "2       f973b01694  4ea3cf408f  623d0a582a  2018-03-01  2018-03-01 09:13:26.0   \n",
      "3       8c1cec8d4b  b87cb736cb  fc5289b139  2018-03-01  2018-03-01 21:29:50.0   \n",
      "4       d43a33c38a  4829223b6f  623d0a582a  2018-03-01  2018-03-01 19:13:37.0   \n",
      "...            ...         ...         ...         ...                    ...   \n",
      "549984  3ad06b9fbe  a27b3ed4d4  a9109972d1  2018-03-31  2018-03-31 01:22:47.0   \n",
      "549985  c9d77a7ed0  18f92434cd  7f53769d3f  2018-03-31  2018-03-31 08:55:57.0   \n",
      "549986  b9ad79338f  b5caf8a580  8dc4a01dec  2018-03-31  2018-03-31 13:31:01.0   \n",
      "549987  be3a9414b1  20ba6655f3  2dd6b818ec  2018-03-31  2018-03-31 12:51:18.0   \n",
      "549988  02d31f05c9  f260895cbe  10d369ef96  2018-03-31  2018-03-31 18:21:16.0   \n",
      "\n",
      "        quantity  type promise  original_unit_price  final_unit_price  \\\n",
      "0              1     2       -                 89.0              79.0   \n",
      "1              1     1       2                 99.9              53.9   \n",
      "2              1     1       2                 78.0              58.5   \n",
      "3              1     1       2                 61.0              35.0   \n",
      "4              1     1       1                 78.0              53.0   \n",
      "...          ...   ...     ...                  ...               ...   \n",
      "549984         1     2       -                  0.0              -1.0   \n",
      "549985         1     1       3                118.0              55.0   \n",
      "549986         1     1       2                 78.0              78.0   \n",
      "549987         1     2       -                189.0              78.0   \n",
      "549988         1     2       4                 68.0              49.0   \n",
      "\n",
      "        direct_discount_per_unit  quantity_discount_per_unit  \\\n",
      "0                            0.0                        10.0   \n",
      "1                            5.0                        41.0   \n",
      "2                           19.5                         0.0   \n",
      "3                            0.0                        26.0   \n",
      "4                           19.0                         0.0   \n",
      "...                          ...                         ...   \n",
      "549984                       0.0                         0.0   \n",
      "549985                      63.0                         0.0   \n",
      "549986                       0.0                         0.0   \n",
      "549987                     111.0                         0.0   \n",
      "549988                      19.0                         0.0   \n",
      "\n",
      "        bundle_discount_per_unit  coupon_discount_per_unit  gift_item  dc_ori  \\\n",
      "0                            0.0                       0.0          0       4   \n",
      "1                            0.0                       0.0          0      28   \n",
      "2                            0.0                       0.0          0      28   \n",
      "3                            0.0                       0.0          0       4   \n",
      "4                            0.0                       6.0          0       3   \n",
      "...                          ...                       ...        ...     ...   \n",
      "549984                       0.0                       1.0          1       2   \n",
      "549985                       0.0                       0.0          0      59   \n",
      "549986                       0.0                       0.0          0       2   \n",
      "549987                       0.0                       0.0          0       4   \n",
      "549988                       0.0                       0.0          0       4   \n",
      "\n",
      "        dc_des  \n",
      "0           28  \n",
      "1           28  \n",
      "2           28  \n",
      "3           28  \n",
      "4           16  \n",
      "...        ...  \n",
      "549984       2  \n",
      "549985       2  \n",
      "549986       2  \n",
      "549987      28  \n",
      "549988      28  \n",
      "\n",
      "[549989 rows x 17 columns]\n",
      "gift ordrs           order_ID     user_ID      sku_ID  order_date             order_time  \\\n",
      "6       89286e5fd9  79154d0001  6717b7c979  2018-03-01  2018-03-01 22:18:41.0   \n",
      "10      9c65b6264b  2021a86702  d3e31fdd6e  2018-03-01  2018-03-01 00:12:07.0   \n",
      "23      8b71aa6716  9bb8b4c04f  a0e49f9966  2018-03-01  2018-03-01 22:08:44.0   \n",
      "25      67b8f778f6  53dc20e68d  a0e49f9966  2018-03-01  2018-03-01 23:17:02.0   \n",
      "26      67b8f778f6  53dc20e68d  c98d32ff09  2018-03-01  2018-03-01 23:17:02.0   \n",
      "...            ...         ...         ...         ...                    ...   \n",
      "549939  6d882e746d  227f7204e8  cfe58e6b7f  2018-03-31  2018-03-31 06:03:08.0   \n",
      "549980  a7c31a6da3  ecc9f60096  a9109972d1  2018-03-31  2018-03-31 21:02:09.0   \n",
      "549981  ac748a8701  dbbace058c  a9109972d1  2018-03-31  2018-03-31 11:30:16.0   \n",
      "549983  9fa0694b3b  39933e9bc6  767ac490ed  2018-03-31  2018-03-31 19:51:43.0   \n",
      "549984  3ad06b9fbe  a27b3ed4d4  a9109972d1  2018-03-31  2018-03-31 01:22:47.0   \n",
      "\n",
      "        quantity  type promise  original_unit_price  final_unit_price  \\\n",
      "6              1     1       1                  0.0               0.0   \n",
      "10             2     1       1                  0.0               0.0   \n",
      "23             1     1       1                  0.0               0.0   \n",
      "25             1     1       1                  0.0               0.0   \n",
      "26             1     1       1                  0.0               0.0   \n",
      "...          ...   ...     ...                  ...               ...   \n",
      "549939         2     2       -                  0.0               0.0   \n",
      "549980         1     2       -                  0.0              -3.0   \n",
      "549981         1     2       -                  0.0               0.0   \n",
      "549983         1     1       2                  0.0              -1.0   \n",
      "549984         1     2       -                  0.0              -1.0   \n",
      "\n",
      "        direct_discount_per_unit  quantity_discount_per_unit  \\\n",
      "6                            0.0                         0.0   \n",
      "10                           0.0                         0.0   \n",
      "23                           0.0                         0.0   \n",
      "25                           0.0                         0.0   \n",
      "26                           0.0                         0.0   \n",
      "...                          ...                         ...   \n",
      "549939                       0.0                         0.0   \n",
      "549980                       0.0                         3.0   \n",
      "549981                       0.0                         0.0   \n",
      "549983                       0.0                         1.0   \n",
      "549984                       0.0                         0.0   \n",
      "\n",
      "        bundle_discount_per_unit  coupon_discount_per_unit  gift_item  dc_ori  \\\n",
      "6                            0.0                       0.0          1       3   \n",
      "10                           0.0                       0.0          1       3   \n",
      "23                           0.0                       0.0          1       3   \n",
      "25                           0.0                       0.0          1       3   \n",
      "26                           0.0                       0.0          1       3   \n",
      "...                          ...                       ...        ...     ...   \n",
      "549939                       0.0                       0.0          1       2   \n",
      "549980                       0.0                       0.0          1       2   \n",
      "549981                       0.0                       0.0          1       2   \n",
      "549983                       0.0                       0.0          1       2   \n",
      "549984                       0.0                       1.0          1       2   \n",
      "\n",
      "        dc_des  \n",
      "6           16  \n",
      "10          16  \n",
      "23          16  \n",
      "25          16  \n",
      "26          16  \n",
      "...        ...  \n",
      "549939       2  \n",
      "549980       2  \n",
      "549981       2  \n",
      "549983       2  \n",
      "549984       2  \n",
      "\n",
      "[94606 rows x 17 columns]\n",
      "        original_unit_price  final_unit_price\n",
      "6                       0.0               0.0\n",
      "10                      0.0               0.0\n",
      "23                      0.0               0.0\n",
      "25                      0.0               0.0\n",
      "26                      0.0               0.0\n",
      "...                     ...               ...\n",
      "549939                  0.0               0.0\n",
      "549980                  0.0              -3.0\n",
      "549981                  0.0               0.0\n",
      "549983                  0.0              -1.0\n",
      "549984                  0.0              -1.0\n",
      "\n",
      "[94606 rows x 2 columns]\n"
     ]
    }
   ],
   "source": [
    "print(\"order data\", orderData)\n",
    "gift_orders = orderData[orderData['gift_item'] == 1]\n",
    "print(\"gift ordrs\", gift_orders)\n",
    "# Examine original_unit_price and final_unit_price\n",
    "print(gift_orders[['original_unit_price', 'final_unit_price']])\n",
    "# The zeros moight represent data errors"
   ]
  },
  {
   "cell_type": "markdown",
   "id": "b7f3a034",
   "metadata": {},
   "source": [
    "Still use the original order table. Filter the orders of a product (sku: 'a0e49f9966') on '2018-3-15'. Calculate the sales. <br>\n",
    "The outcome will be a pandas series. <br>\n",
    "The sum of the series will be the total sales. "
   ]
  },
  {
   "cell_type": "code",
   "execution_count": 67,
   "id": "f54f17b5",
   "metadata": {},
   "outputs": [
    {
     "name": "stdout",
     "output_type": "stream",
     "text": [
      "Empty DataFrame\n",
      "Columns: [order_ID, user_ID, sku_ID, order_date, order_time, quantity, type, promise, original_unit_price, final_unit_price, direct_discount_per_unit, quantity_discount_per_unit, bundle_discount_per_unit, coupon_discount_per_unit, gift_item, dc_ori, dc_des]\n",
      "Index: []\n",
      "Empty DataFrame\n",
      "Columns: [order_ID, sales]\n",
      "Index: []\n",
      "Total Sales: 0.0\n"
     ]
    }
   ],
   "source": [
    "product_orders = orderData[(orderData['sku_ID'] == 'a0e49f9966') & (orderData['order_date'] == '2018-3-15')]\n",
    "print(product_orders)\n",
    "# Calculate sales by multiplying quantity and final_price\n",
    "product_orders['sales'] = product_orders['quantity'] * product_orders['final_unit_price']\n",
    "\n",
    "# Display the sales for each order\n",
    "print(product_orders[['order_ID', 'sales']])\n",
    "\n",
    "# Calculate total sales\n",
    "total_sales = product_orders['sales'].sum()\n",
    "\n",
    "# Display the total sales\n",
    "print(\"Total Sales:\", total_sales)\n"
   ]
  },
  {
   "cell_type": "markdown",
   "id": "8564c8a0",
   "metadata": {},
   "source": [
    "Now let's move to the user table. <br>\n",
    "Create a pivot table that counts the customers based on their user_level and education."
   ]
  },
  {
   "cell_type": "code",
   "execution_count": 68,
   "id": "934d9dd8",
   "metadata": {},
   "outputs": [
    {
     "name": "stdout",
     "output_type": "stream",
     "text": [
      "                      user_ID\n",
      "user_level education         \n",
      "0          2                7\n",
      "           3                8\n",
      "           4                1\n",
      "           U              145\n",
      "1          1             3001\n",
      "           2            24182\n",
      "           3            35486\n",
      "           4              369\n",
      "           U            66391\n",
      "2          1             3270\n",
      "           2            32953\n",
      "           3            75907\n",
      "           4             1419\n",
      "           U            28310\n",
      "3          1             1260\n",
      "           2            13418\n",
      "           3            68944\n",
      "           4             4979\n",
      "           U             8201\n",
      "4          1              629\n",
      "           2             3606\n",
      "           3            37548\n",
      "           4            39922\n",
      "           U             4023\n",
      "Bus        2                2\n",
      "           3                6\n",
      "           4                3\n",
      "           U             1005\n",
      "New        3                9\n",
      "           U             2294\n"
     ]
    }
   ],
   "source": [
    "pivot_table = pd.pivot_table(userData, values='user_ID', index=['user_level', 'education'], aggfunc='count')\n",
    "print(pivot_table)\n"
   ]
  },
  {
   "cell_type": "code",
   "execution_count": 69,
   "id": "bce931a8",
   "metadata": {},
   "outputs": [
    {
     "name": "stdout",
     "output_type": "stream",
     "text": [
      "1. What is the average quantity of products ordered by customers in March 2018?\n",
      "Average Quantity in March 2018: 1.2166697879412134\n"
     ]
    }
   ],
   "source": [
    "print(\"1. What is the average quantity of products ordered by customers in March 2018?\")\n",
    "march_2018_orders = orderData[(orderData['order_date'] >= '2018-03-01') & (orderData['order_date'] <= '2018-03-31')]\n",
    "average_quantity_march = march_2018_orders['quantity'].mean()\n",
    "print(\"Average Quantity in March 2018:\", average_quantity_march)"
   ]
  },
  {
   "cell_type": "markdown",
   "id": "5f87e3ec",
   "metadata": {},
   "source": [
    "We now further explore the data, especially with graphs."
   ]
  },
  {
   "cell_type": "markdown",
   "id": "412b9f1d",
   "metadata": {},
   "source": [
    "Let's first look at the user table. Use info() to display basic information about the table."
   ]
  },
  {
   "cell_type": "code",
   "execution_count": 70,
   "id": "510c4574",
   "metadata": {},
   "outputs": [
    {
     "name": "stdout",
     "output_type": "stream",
     "text": [
      "<class 'pandas.core.frame.DataFrame'>\n",
      "RangeIndex: 457298 entries, 0 to 457297\n",
      "Data columns (total 10 columns):\n",
      " #   Column             Non-Null Count   Dtype \n",
      "---  ------             --------------   ----- \n",
      " 0   user_ID            457298 non-null  object\n",
      " 1   user_level         457298 non-null  string\n",
      " 2   first_order_month  457298 non-null  object\n",
      " 3   plus               457298 non-null  int64 \n",
      " 4   gender             457298 non-null  object\n",
      " 5   age                457298 non-null  object\n",
      " 6   marital_status     457298 non-null  object\n",
      " 7   education          457298 non-null  string\n",
      " 8   city_level         457298 non-null  string\n",
      " 9   purchase_power     457298 non-null  string\n",
      "dtypes: int64(1), object(5), string(4)\n",
      "memory usage: 34.9+ MB\n",
      "<class 'pandas.core.frame.DataFrame'>\n",
      "RangeIndex: 457298 entries, 0 to 457297\n",
      "Data columns (total 10 columns):\n",
      " #   Column             Non-Null Count   Dtype \n",
      "---  ------             --------------   ----- \n",
      " 0   user_ID            457298 non-null  object\n",
      " 1   user_level         457298 non-null  string\n",
      " 2   first_order_month  457298 non-null  object\n",
      " 3   plus               457298 non-null  int64 \n",
      " 4   gender             457298 non-null  object\n",
      " 5   age                457298 non-null  object\n",
      " 6   marital_status     457298 non-null  object\n",
      " 7   education          457298 non-null  string\n",
      " 8   city_level         457298 non-null  string\n",
      " 9   purchase_power     457298 non-null  string\n",
      "dtypes: int64(1), object(5), string(4)\n",
      "memory usage: 34.9+ MB\n"
     ]
    }
   ],
   "source": [
    "userData.info()\n",
    "\n",
    "# Change data types for specific variables\n",
    "userData['user_level'] = userData['user_level'].astype('string')\n",
    "userData['education'] = userData['education'].astype('string')\n",
    "userData['city_level'] = userData['city_level'].astype('string')\n",
    "userData['purchase_power'] = userData['purchase_power'].astype('string')\n",
    "\n",
    "# Verify the changes\n",
    "userData.info()"
   ]
  },
  {
   "cell_type": "code",
   "execution_count": null,
   "id": "604e4700",
   "metadata": {},
   "outputs": [],
   "source": []
  },
  {
   "cell_type": "markdown",
   "id": "981de815",
   "metadata": {},
   "source": [
    "The meaning of '-1' for user_level is new customer. We will replace '-1' with 'New' and '10' with 'Bus'. Notice that -1 now changes to a string '-1'."
   ]
  },
  {
   "cell_type": "code",
   "execution_count": 71,
   "id": "e839f106",
   "metadata": {},
   "outputs": [
    {
     "data": {
      "text/plain": [
       "2      141859\n",
       "1      129429\n",
       "3       96802\n",
       "4       85728\n",
       "New      2303\n",
       "Bus      1016\n",
       "0         161\n",
       "Name: user_level, dtype: Int64"
      ]
     },
     "execution_count": 71,
     "metadata": {},
     "output_type": "execute_result"
    }
   ],
   "source": [
    "userData['user_level'] = userData['user_level'].replace({'-1': 'New', '10': 'Bus'}).astype('string')\n",
    "\n",
    "# Verify the changes\n",
    "userData['user_level'].value_counts()  # Display the updated value counts\n"
   ]
  },
  {
   "cell_type": "markdown",
   "id": "7d690477",
   "metadata": {},
   "source": [
    "The meaning of -1 in education, city_level and purchase_power is missing values. We will replace it with 'U', as missing value indicator of other variables like 'age', 'gender', etc."
   ]
  },
  {
   "cell_type": "code",
   "execution_count": 72,
   "id": "1160a43b",
   "metadata": {
    "scrolled": true
   },
   "outputs": [
    {
     "name": "stdout",
     "output_type": "stream",
     "text": [
      "Unique values in education after replacement: <StringArray>\n",
      "['3', 'U', '2', '4', '1']\n",
      "Length: 5, dtype: string\n",
      "Unique values in city_level after replacement: <StringArray>\n",
      "['4', 'U', '2', '3', '1', '5']\n",
      "Length: 6, dtype: string\n",
      "Unique values in purchase_power after replacement: <StringArray>\n",
      "['3', 'U', '2', '1', '4', '5']\n",
      "Length: 6, dtype: string\n"
     ]
    }
   ],
   "source": [
    "columns_to_replace = ['education', 'city_level', 'purchase_power']\n",
    "userData[columns_to_replace] = userData[columns_to_replace].replace({'-1': 'U'}).astype('string')\n",
    "\n",
    "# Verify the changes\n",
    "for column in columns_to_replace:\n",
    "    print(f\"Unique values in {column} after replacement: {userData[column].unique()}\")\n"
   ]
  },
  {
   "cell_type": "markdown",
   "id": "c42dd2fb",
   "metadata": {},
   "source": [
    "Let's move to the user table. Almost all user features are categorical variables. Make bar graphs to examine the distribution of \"user_level', 'plus', 'gender', 'age', 'marital_status', 'education', 'city_level', and 'purchase_power'."
   ]
  },
  {
   "cell_type": "code",
   "execution_count": 73,
   "id": "62f63191",
   "metadata": {},
   "outputs": [
    {
     "data": {
      "text/plain": [
       "<Figure size 1000x600 with 0 Axes>"
      ]
     },
     "execution_count": 73,
     "metadata": {},
     "output_type": "execute_result"
    },
    {
     "data": {
      "text/plain": [
       "<Axes: >"
      ]
     },
     "execution_count": 73,
     "metadata": {},
     "output_type": "execute_result"
    },
    {
     "data": {
      "text/plain": [
       "Text(0.5, 1.0, 'Distribution of user_level')"
      ]
     },
     "execution_count": 73,
     "metadata": {},
     "output_type": "execute_result"
    },
    {
     "data": {
      "text/plain": [
       "Text(0.5, 0, 'user_level')"
      ]
     },
     "execution_count": 73,
     "metadata": {},
     "output_type": "execute_result"
    },
    {
     "data": {
      "text/plain": [
       "Text(0, 0.5, 'Count')"
      ]
     },
     "execution_count": 73,
     "metadata": {},
     "output_type": "execute_result"
    },
    {
     "data": {
      "image/png": "[encoded data removed]",
      "text/plain": [
       "<Figure size 1000x600 with 1 Axes>"
      ]
     },
     "metadata": {},
     "output_type": "display_data"
    },
    {
     "data": {
      "text/plain": [
       "<Figure size 1000x600 with 0 Axes>"
      ]
     },
     "execution_count": 73,
     "metadata": {},
     "output_type": "execute_result"
    },
    {
     "data": {
      "text/plain": [
       "<Axes: >"
      ]
     },
     "execution_count": 73,
     "metadata": {},
     "output_type": "execute_result"
    },
    {
     "data": {
      "text/plain": [
       "Text(0.5, 1.0, 'Distribution of plus')"
      ]
     },
     "execution_count": 73,
     "metadata": {},
     "output_type": "execute_result"
    },
    {
     "data": {
      "text/plain": [
       "Text(0.5, 0, 'plus')"
      ]
     },
     "execution_count": 73,
     "metadata": {},
     "output_type": "execute_result"
    },
    {
     "data": {
      "text/plain": [
       "Text(0, 0.5, 'Count')"
      ]
     },
     "execution_count": 73,
     "metadata": {},
     "output_type": "execute_result"
    },
    {
     "data": {
      "image/png": "[encoded data removed]",
      "text/plain": [
       "<Figure size 1000x600 with 1 Axes>"
      ]
     },
     "metadata": {},
     "output_type": "display_data"
    },
    {
     "data": {
      "text/plain": [
       "<Figure size 1000x600 with 0 Axes>"
      ]
     },
     "execution_count": 73,
     "metadata": {},
     "output_type": "execute_result"
    },
    {
     "data": {
      "text/plain": [
       "<Axes: >"
      ]
     },
     "execution_count": 73,
     "metadata": {},
     "output_type": "execute_result"
    },
    {
     "data": {
      "text/plain": [
       "Text(0.5, 1.0, 'Distribution of gender')"
      ]
     },
     "execution_count": 73,
     "metadata": {},
     "output_type": "execute_result"
    },
    {
     "data": {
      "text/plain": [
       "Text(0.5, 0, 'gender')"
      ]
     },
     "execution_count": 73,
     "metadata": {},
     "output_type": "execute_result"
    },
    {
     "data": {
      "text/plain": [
       "Text(0, 0.5, 'Count')"
      ]
     },
     "execution_count": 73,
     "metadata": {},
     "output_type": "execute_result"
    },
    {
     "data": {
      "image/png": "[encoded data removed]",
      "text/plain": [
       "<Figure size 1000x600 with 1 Axes>"
      ]
     },
     "metadata": {},
     "output_type": "display_data"
    },
    {
     "data": {
      "text/plain": [
       "<Figure size 1000x600 with 0 Axes>"
      ]
     },
     "execution_count": 73,
     "metadata": {},
     "output_type": "execute_result"
    },
    {
     "data": {
      "text/plain": [
       "<Axes: >"
      ]
     },
     "execution_count": 73,
     "metadata": {},
     "output_type": "execute_result"
    },
    {
     "data": {
      "text/plain": [
       "Text(0.5, 1.0, 'Distribution of age')"
      ]
     },
     "execution_count": 73,
     "metadata": {},
     "output_type": "execute_result"
    },
    {
     "data": {
      "text/plain": [
       "Text(0.5, 0, 'age')"
      ]
     },
     "execution_count": 73,
     "metadata": {},
     "output_type": "execute_result"
    },
    {
     "data": {
      "text/plain": [
       "Text(0, 0.5, 'Count')"
      ]
     },
     "execution_count": 73,
     "metadata": {},
     "output_type": "execute_result"
    },
    {
     "data": {
      "image/png": "[encoded data removed]",
      "text/plain": [
       "<Figure size 1000x600 with 1 Axes>"
      ]
     },
     "metadata": {},
     "output_type": "display_data"
    },
    {
     "data": {
      "text/plain": [
       "<Figure size 1000x600 with 0 Axes>"
      ]
     },
     "execution_count": 73,
     "metadata": {},
     "output_type": "execute_result"
    },
    {
     "data": {
      "text/plain": [
       "<Axes: >"
      ]
     },
     "execution_count": 73,
     "metadata": {},
     "output_type": "execute_result"
    },
    {
     "data": {
      "text/plain": [
       "Text(0.5, 1.0, 'Distribution of marital_status')"
      ]
     },
     "execution_count": 73,
     "metadata": {},
     "output_type": "execute_result"
    },
    {
     "data": {
      "text/plain": [
       "Text(0.5, 0, 'marital_status')"
      ]
     },
     "execution_count": 73,
     "metadata": {},
     "output_type": "execute_result"
    },
    {
     "data": {
      "text/plain": [
       "Text(0, 0.5, 'Count')"
      ]
     },
     "execution_count": 73,
     "metadata": {},
     "output_type": "execute_result"
    },
    {
     "data": {
      "image/png": "[encoded data removed]",
      "text/plain": [
       "<Figure size 1000x600 with 1 Axes>"
      ]
     },
     "metadata": {},
     "output_type": "display_data"
    },
    {
     "data": {
      "text/plain": [
       "<Figure size 1000x600 with 0 Axes>"
      ]
     },
     "execution_count": 73,
     "metadata": {},
     "output_type": "execute_result"
    },
    {
     "data": {
      "text/plain": [
       "<Axes: >"
      ]
     },
     "execution_count": 73,
     "metadata": {},
     "output_type": "execute_result"
    },
    {
     "data": {
      "text/plain": [
       "Text(0.5, 1.0, 'Distribution of education')"
      ]
     },
     "execution_count": 73,
     "metadata": {},
     "output_type": "execute_result"
    },
    {
     "data": {
      "text/plain": [
       "Text(0.5, 0, 'education')"
      ]
     },
     "execution_count": 73,
     "metadata": {},
     "output_type": "execute_result"
    },
    {
     "data": {
      "text/plain": [
       "Text(0, 0.5, 'Count')"
      ]
     },
     "execution_count": 73,
     "metadata": {},
     "output_type": "execute_result"
    },
    {
     "data": {
      "image/png": "[encoded data removed]",
      "text/plain": [
       "<Figure size 1000x600 with 1 Axes>"
      ]
     },
     "metadata": {},
     "output_type": "display_data"
    },
    {
     "data": {
      "text/plain": [
       "<Figure size 1000x600 with 0 Axes>"
      ]
     },
     "execution_count": 73,
     "metadata": {},
     "output_type": "execute_result"
    },
    {
     "data": {
      "text/plain": [
       "<Axes: >"
      ]
     },
     "execution_count": 73,
     "metadata": {},
     "output_type": "execute_result"
    },
    {
     "data": {
      "text/plain": [
       "Text(0.5, 1.0, 'Distribution of city_level')"
      ]
     },
     "execution_count": 73,
     "metadata": {},
     "output_type": "execute_result"
    },
    {
     "data": {
      "text/plain": [
       "Text(0.5, 0, 'city_level')"
      ]
     },
     "execution_count": 73,
     "metadata": {},
     "output_type": "execute_result"
    },
    {
     "data": {
      "text/plain": [
       "Text(0, 0.5, 'Count')"
      ]
     },
     "execution_count": 73,
     "metadata": {},
     "output_type": "execute_result"
    },
    {
     "data": {
      "image/png": "[encoded data removed]",
      "text/plain": [
       "<Figure size 1000x600 with 1 Axes>"
      ]
     },
     "metadata": {},
     "output_type": "display_data"
    },
    {
     "data": {
      "text/plain": [
       "<Figure size 1000x600 with 0 Axes>"
      ]
     },
     "execution_count": 73,
     "metadata": {},
     "output_type": "execute_result"
    },
    {
     "data": {
      "text/plain": [
       "<Axes: >"
      ]
     },
     "execution_count": 73,
     "metadata": {},
     "output_type": "execute_result"
    },
    {
     "data": {
      "text/plain": [
       "Text(0.5, 1.0, 'Distribution of purchase_power')"
      ]
     },
     "execution_count": 73,
     "metadata": {},
     "output_type": "execute_result"
    },
    {
     "data": {
      "text/plain": [
       "Text(0.5, 0, 'purchase_power')"
      ]
     },
     "execution_count": 73,
     "metadata": {},
     "output_type": "execute_result"
    },
    {
     "data": {
      "text/plain": [
       "Text(0, 0.5, 'Count')"
      ]
     },
     "execution_count": 73,
     "metadata": {},
     "output_type": "execute_result"
    },
    {
     "data": {
      "image/png": "[encoded data removed]",
      "text/plain": [
       "<Figure size 1000x600 with 1 Axes>"
      ]
     },
     "metadata": {},
     "output_type": "display_data"
    },
    {
     "name": "stdout",
     "output_type": "stream",
     "text": [
      "Education of most users is mapped to 3\n",
      "Age level of most users is from 26-35\n"
     ]
    }
   ],
   "source": [
    "import matplotlib.pyplot as plt\n",
    "\n",
    "# Specify categorical columns\n",
    "categorical_columns = ['user_level', 'plus', 'gender', 'age', 'marital_status', 'education', 'city_level', 'purchase_power']\n",
    "\n",
    "# Create bar graphs for each categorical column\n",
    "for column in categorical_columns:\n",
    "    plt.figure(figsize=(10, 6))\n",
    "    userData[column].value_counts().sort_index().plot(kind='bar', color='skyblue')\n",
    "    plt.title(f'Distribution of {column}')\n",
    "    plt.xlabel(column)\n",
    "    plt.ylabel('Count')\n",
    "    plt.show()\n",
    "    \n",
    "print(\"Education of most users is mapped to 3\")\n",
    "print(\"Age level of most users is from 26-35\")"
   ]
  },
  {
   "cell_type": "markdown",
   "id": "da17ae2a",
   "metadata": {},
   "source": [
    "Next we move to the table. Sum the quantity by day and save the results.\n",
    "Create a line graph based on it. "
   ]
  },
  {
   "cell_type": "code",
   "execution_count": 74,
   "id": "31bf318c",
   "metadata": {
    "scrolled": true
   },
   "outputs": [
    {
     "data": {
      "text/plain": [
       "<Figure size 1000x600 with 0 Axes>"
      ]
     },
     "execution_count": 74,
     "metadata": {},
     "output_type": "execute_result"
    },
    {
     "data": {
      "text/plain": [
       "[<matplotlib.lines.Line2D at 0x14e9cca50>]"
      ]
     },
     "execution_count": 74,
     "metadata": {},
     "output_type": "execute_result"
    },
    {
     "data": {
      "text/plain": [
       "Text(0.5, 1.0, 'Daily Quantity Sold')"
      ]
     },
     "execution_count": 74,
     "metadata": {},
     "output_type": "execute_result"
    },
    {
     "data": {
      "text/plain": [
       "Text(0.5, 0, 'Day')"
      ]
     },
     "execution_count": 74,
     "metadata": {},
     "output_type": "execute_result"
    },
    {
     "data": {
      "text/plain": [
       "Text(0, 0.5, 'Sum of Quantity')"
      ]
     },
     "execution_count": 74,
     "metadata": {},
     "output_type": "execute_result"
    },
    {
     "data": {
      "image/png": "[encoded data removed]",
      "text/plain": [
       "<Figure size 1000x600 with 1 Axes>"
      ]
     },
     "metadata": {},
     "output_type": "display_data"
    },
    {
     "name": "stdout",
     "output_type": "stream",
     "text": [
      "The day with the most quantity sold is Day 1 with a total of 38254 units.\n"
     ]
    }
   ],
   "source": [
    "# Assuming 'filtered_table' is the DataFrame resulting from Q10-Q15\n",
    "# Replace 'filtered_table' with the actual variable name you are using\n",
    "\n",
    "# Sum the quantity by day\n",
    "daily_quantity_sum = filtered_table.groupby('order_day')['quantity'].sum()\n",
    "\n",
    "# Create a line graph\n",
    "plt.figure(figsize=(10, 6))\n",
    "plt.plot(daily_quantity_sum.index, daily_quantity_sum.values, marker='o', linestyle='-', color='b')\n",
    "plt.title('Daily Quantity Sold')\n",
    "plt.xlabel('Day')\n",
    "plt.ylabel('Sum of Quantity')\n",
    "plt.grid(True)\n",
    "plt.show()\n",
    "\n",
    "# Find the day with the most quantity sold\n",
    "max_quantity_day = daily_quantity_sum.idxmax()\n",
    "max_quantity_value = daily_quantity_sum.max()\n",
    "print(f\"The day with the most quantity sold is Day {max_quantity_day} with a total of {max_quantity_value} units.\")"
   ]
  },
  {
   "cell_type": "markdown",
   "id": "9d3763ce",
   "metadata": {},
   "source": [
    "Repeat Q25 for variable 'hour'. When is the peak time for orders during a day?"
   ]
  },
  {
   "cell_type": "code",
   "execution_count": 75,
   "id": "bef7e971",
   "metadata": {},
   "outputs": [
    {
     "data": {
      "text/plain": [
       "<Figure size 1000x600 with 0 Axes>"
      ]
     },
     "execution_count": 75,
     "metadata": {},
     "output_type": "execute_result"
    },
    {
     "data": {
      "text/plain": [
       "[<matplotlib.lines.Line2D at 0x14ea763d0>]"
      ]
     },
     "execution_count": 75,
     "metadata": {},
     "output_type": "execute_result"
    },
    {
     "data": {
      "text/plain": [
       "Text(0.5, 1.0, 'Hourly Quantity Sold')"
      ]
     },
     "execution_count": 75,
     "metadata": {},
     "output_type": "execute_result"
    },
    {
     "data": {
      "text/plain": [
       "Text(0.5, 0, 'Hour of the Day')"
      ]
     },
     "execution_count": 75,
     "metadata": {},
     "output_type": "execute_result"
    },
    {
     "data": {
      "text/plain": [
       "Text(0, 0.5, 'Sum of Quantity')"
      ]
     },
     "execution_count": 75,
     "metadata": {},
     "output_type": "execute_result"
    },
    {
     "data": {
      "image/png": "[encoded data removed]",
      "text/plain": [
       "<Figure size 1000x600 with 1 Axes>"
      ]
     },
     "metadata": {},
     "output_type": "display_data"
    },
    {
     "name": "stdout",
     "output_type": "stream",
     "text": [
      "The peak time for orders is at 10:00 with a total of 29346 units.\n"
     ]
    }
   ],
   "source": [
    "# Assuming 'filtered_table' is the DataFrame resulting from Q14\n",
    "# Replace 'filtered_table' with the actual variable name you are using\n",
    "\n",
    "# Sum the quantity by hour\n",
    "hourly_quantity_sum = filtered_table.groupby('order_hour')['quantity'].sum()\n",
    "\n",
    "# Create a line graph for hourly quantities\n",
    "plt.figure(figsize=(10, 6))\n",
    "plt.plot(hourly_quantity_sum.index, hourly_quantity_sum.values, marker='o', linestyle='-', color='g')\n",
    "plt.title('Hourly Quantity Sold')\n",
    "plt.xlabel('Hour of the Day')\n",
    "plt.ylabel('Sum of Quantity')\n",
    "plt.grid(True)\n",
    "plt.show()\n",
    "\n",
    "# Find the peak time for orders\n",
    "peak_hour = hourly_quantity_sum.idxmax()\n",
    "peak_hour_quantity = hourly_quantity_sum.max()\n",
    "print(f\"The peak time for orders is at {peak_hour}:00 with a total of {peak_hour_quantity} units.\")\n"
   ]
  },
  {
   "cell_type": "markdown",
   "id": "4a661088",
   "metadata": {},
   "source": [
    "Examine variable original_unit_price .<br>"
   ]
  },
  {
   "cell_type": "code",
   "execution_count": 76,
   "id": "c19e4bb1",
   "metadata": {},
   "outputs": [
    {
     "name": "stdout",
     "output_type": "stream",
     "text": [
      "Minimum original unit price: 0.0\n",
      "Maximum original unit price: 348.0\n",
      "Median original unit price: 85.0\n"
     ]
    }
   ],
   "source": [
    "# Use describe() to check the statistics of 'original_unit_price'\n",
    "price_statistics = filtered_table['original_unit_price'].describe()\n",
    "\n",
    "# Extract specific statistics\n",
    "min_price = price_statistics['min']\n",
    "max_price = price_statistics['max']\n",
    "median_price = price_statistics['50%']  # 50% corresponds to the median\n",
    "\n",
    "# Print the results\n",
    "print(f\"Minimum original unit price: {min_price}\")\n",
    "print(f\"Maximum original unit price: {max_price}\")\n",
    "print(f\"Median original unit price: {median_price}\")\n"
   ]
  },
  {
   "cell_type": "markdown",
   "id": "ce6b4b9c",
   "metadata": {},
   "source": [
    "Find out the percentage of observations whose original_unit_price is greater than 350. Delete those observations using filtering. We will use the filtered dataset from now on."
   ]
  },
  {
   "cell_type": "code",
   "execution_count": 77,
   "id": "aacc2f83",
   "metadata": {},
   "outputs": [
    {
     "name": "stdout",
     "output_type": "stream",
     "text": [
      "Percentage of observations with 'original_unit_price' > 350: 0.00%\n"
     ]
    }
   ],
   "source": [
    "# Find the percentage of observations with 'original_unit_price' greater than 350\n",
    "percentage_above_350 = (filtered_table['original_unit_price'] > 350).mean() * 100\n",
    "print(f\"Percentage of observations with 'original_unit_price' > 350: {percentage_above_350:.2f}%\")\n",
    "\n",
    "# Filter the dataset to exclude observations with 'original_unit_price' > 350\n",
    "filtered_table = filtered_table[filtered_table['original_unit_price'] <= 350]\n"
   ]
  },
  {
   "cell_type": "markdown",
   "id": "0632e2a3",
   "metadata": {},
   "source": [
    "Examine the distribution of original_unit_price, using bins range from 0 to 350, width 10."
   ]
  },
  {
   "cell_type": "code",
   "execution_count": 78,
   "id": "8121b9c5",
   "metadata": {},
   "outputs": [
    {
     "data": {
      "text/plain": [
       "<Figure size 1000x600 with 0 Axes>"
      ]
     },
     "execution_count": 78,
     "metadata": {},
     "output_type": "execute_result"
    },
    {
     "data": {
      "text/plain": [
       "(array([1.4470e+04, 3.6630e+03, 1.6820e+03, 4.5640e+03, 4.9610e+03,\n",
       "        3.2915e+04, 3.1531e+04, 5.7240e+04, 1.9267e+04, 1.4141e+04,\n",
       "        8.4430e+03, 5.5720e+03, 1.3102e+04, 1.6162e+04, 9.5800e+03,\n",
       "        5.3300e+03, 2.4780e+03, 1.2135e+04, 3.3870e+03, 5.3610e+03,\n",
       "        8.1100e+02, 6.3500e+02, 5.0000e+01, 2.6950e+03, 5.8090e+03,\n",
       "        2.8450e+03, 2.0040e+03, 3.1800e+02, 4.3000e+02, 2.7036e+04,\n",
       "        9.9100e+02, 3.2000e+01, 5.1800e+02, 2.2650e+03, 7.0000e+00]),\n",
       " array([  0.,  10.,  20.,  30.,  40.,  50.,  60.,  70.,  80.,  90., 100.,\n",
       "        110., 120., 130., 140., 150., 160., 170., 180., 190., 200., 210.,\n",
       "        220., 230., 240., 250., 260., 270., 280., 290., 300., 310., 320.,\n",
       "        330., 340., 350.]),\n",
       " <BarContainer object of 35 artists>)"
      ]
     },
     "execution_count": 78,
     "metadata": {},
     "output_type": "execute_result"
    },
    {
     "data": {
      "text/plain": [
       "Text(0.5, 1.0, 'Distribution of Original Unit Price')"
      ]
     },
     "execution_count": 78,
     "metadata": {},
     "output_type": "execute_result"
    },
    {
     "data": {
      "text/plain": [
       "Text(0.5, 0, 'Original Unit Price')"
      ]
     },
     "execution_count": 78,
     "metadata": {},
     "output_type": "execute_result"
    },
    {
     "data": {
      "text/plain": [
       "Text(0, 0.5, 'Number of Orders')"
      ]
     },
     "execution_count": 78,
     "metadata": {},
     "output_type": "execute_result"
    },
    {
     "data": {
      "image/png": "[encoded data removed]",
      "text/plain": [
       "<Figure size 1000x600 with 1 Axes>"
      ]
     },
     "metadata": {},
     "output_type": "display_data"
    },
    {
     "name": "stdout",
     "output_type": "stream",
     "text": [
      "The price range with the most orders is 70.0-80.0.\n"
     ]
    }
   ],
   "source": [
    "# Create a histogram to examine the distribution\n",
    "plt.figure(figsize=(10, 6))\n",
    "plt.hist(filtered_table['original_unit_price'], bins=range(0, 360, 10), color='skyblue', edgecolor='black')\n",
    "plt.title('Distribution of Original Unit Price')\n",
    "plt.xlabel('Original Unit Price')\n",
    "plt.ylabel('Number of Orders')\n",
    "plt.grid(True)\n",
    "plt.show()\n",
    "\n",
    "# Identify the price range with the most orders\n",
    "most_orders_price_range = (filtered_table['original_unit_price'] // 10 * 10).mode().values[0]\n",
    "print(f\"The price range with the most orders is {most_orders_price_range}-{most_orders_price_range + 10}.\")\n"
   ]
  },
  {
   "cell_type": "code",
   "execution_count": 79,
   "id": "cbc89158",
   "metadata": {},
   "outputs": [
    {
     "data": {
      "text/plain": [
       "<Figure size 1200x600 with 0 Axes>"
      ]
     },
     "execution_count": 79,
     "metadata": {},
     "output_type": "execute_result"
    },
    {
     "data": {
      "text/plain": [
       "<Axes: >"
      ]
     },
     "execution_count": 79,
     "metadata": {},
     "output_type": "execute_result"
    },
    {
     "data": {
      "text/plain": [
       "(array([1.4470e+04, 3.6630e+03, 1.6820e+03, 4.5640e+03, 4.9610e+03,\n",
       "        3.2915e+04, 3.1531e+04, 5.7240e+04, 1.9267e+04, 1.4141e+04,\n",
       "        8.4430e+03, 5.5720e+03, 1.3102e+04, 1.6162e+04, 9.5800e+03,\n",
       "        5.3300e+03, 2.4780e+03, 1.2135e+04, 3.3870e+03, 5.3610e+03,\n",
       "        8.1100e+02, 6.3500e+02, 5.0000e+01, 2.6950e+03, 5.8090e+03,\n",
       "        2.8450e+03, 2.0040e+03, 3.1800e+02, 4.3000e+02, 2.7036e+04,\n",
       "        9.9100e+02, 3.2000e+01, 5.1800e+02, 2.2650e+03, 7.0000e+00]),\n",
       " array([  0.,  10.,  20.,  30.,  40.,  50.,  60.,  70.,  80.,  90., 100.,\n",
       "        110., 120., 130., 140., 150., 160., 170., 180., 190., 200., 210.,\n",
       "        220., 230., 240., 250., 260., 270., 280., 290., 300., 310., 320.,\n",
       "        330., 340., 350.]),\n",
       " <BarContainer object of 35 artists>)"
      ]
     },
     "execution_count": 79,
     "metadata": {},
     "output_type": "execute_result"
    },
    {
     "data": {
      "text/plain": [
       "Text(0.5, 1.0, 'Distribution of Original Unit Price')"
      ]
     },
     "execution_count": 79,
     "metadata": {},
     "output_type": "execute_result"
    },
    {
     "data": {
      "text/plain": [
       "Text(0.5, 0, 'Original Unit Price')"
      ]
     },
     "execution_count": 79,
     "metadata": {},
     "output_type": "execute_result"
    },
    {
     "data": {
      "text/plain": [
       "Text(0, 0.5, 'Number of Orders')"
      ]
     },
     "execution_count": 79,
     "metadata": {},
     "output_type": "execute_result"
    },
    {
     "data": {
      "text/plain": [
       "<Axes: >"
      ]
     },
     "execution_count": 79,
     "metadata": {},
     "output_type": "execute_result"
    },
    {
     "data": {
      "text/plain": [
       "(array([0.0000e+00, 1.0400e+03, 1.8539e+04, 4.7890e+03, 1.0505e+04,\n",
       "        3.7819e+04, 3.6622e+04, 4.2602e+04, 3.5412e+04, 1.9199e+04,\n",
       "        9.4270e+03, 1.1268e+04, 1.1681e+04, 4.6090e+03, 1.0485e+04,\n",
       "        5.0810e+03, 4.6640e+03, 5.4450e+03, 7.9960e+03, 1.7980e+03,\n",
       "        2.1200e+03, 3.4790e+03, 1.0715e+04, 2.4290e+03, 8.0320e+03,\n",
       "        2.4030e+03, 2.5380e+03, 6.8500e+02, 2.8700e+02, 2.3400e+02,\n",
       "        1.3600e+02, 2.8800e+02, 7.1000e+01, 1.4000e+01, 5.0000e+00,\n",
       "        1.3000e+01, 0.0000e+00]),\n",
       " array([-20., -10.,   0.,  10.,  20.,  30.,  40.,  50.,  60.,  70.,  80.,\n",
       "         90., 100., 110., 120., 130., 140., 150., 160., 170., 180., 190.,\n",
       "        200., 210., 220., 230., 240., 250., 260., 270., 280., 290., 300.,\n",
       "        310., 320., 330., 340., 350.]),\n",
       " <BarContainer object of 37 artists>)"
      ]
     },
     "execution_count": 79,
     "metadata": {},
     "output_type": "execute_result"
    },
    {
     "data": {
      "text/plain": [
       "Text(0.5, 1.0, 'Distribution of Final Unit Price')"
      ]
     },
     "execution_count": 79,
     "metadata": {},
     "output_type": "execute_result"
    },
    {
     "data": {
      "text/plain": [
       "Text(0.5, 0, 'Final Unit Price')"
      ]
     },
     "execution_count": 79,
     "metadata": {},
     "output_type": "execute_result"
    },
    {
     "data": {
      "text/plain": [
       "Text(0, 0.5, 'Number of Orders')"
      ]
     },
     "execution_count": 79,
     "metadata": {},
     "output_type": "execute_result"
    },
    {
     "data": {
      "image/png": "[encoded data removed]",
      "text/plain": [
       "<Figure size 1200x600 with 2 Axes>"
      ]
     },
     "metadata": {},
     "output_type": "display_data"
    }
   ],
   "source": [
    "# Assuming 'filtered_table' is the DataFrame containing the 'final_unit_price' and 'original_unit_price' variables\n",
    "# Replace 'filtered_table' with the actual variable name you are using\n",
    "\n",
    "# Create histograms for both original and final unit prices\n",
    "plt.figure(figsize=(12, 6))\n",
    "\n",
    "# Histogram for original unit price\n",
    "plt.subplot(1, 2, 1)\n",
    "plt.hist(filtered_table['original_unit_price'], bins=range(0, 360, 10), color='skyblue', edgecolor='black')\n",
    "plt.title('Distribution of Original Unit Price')\n",
    "plt.xlabel('Original Unit Price')\n",
    "plt.ylabel('Number of Orders')\n",
    "\n",
    "# Histogram for final unit price\n",
    "plt.subplot(1, 2, 2)\n",
    "plt.hist(filtered_table['final_unit_price'], bins=range(-20, 360, 10), color='lightcoral', edgecolor='black')\n",
    "plt.title('Distribution of Final Unit Price')\n",
    "plt.xlabel('Final Unit Price')\n",
    "plt.ylabel('Number of Orders')\n",
    "\n",
    "plt.tight_layout()\n",
    "plt.show()\n",
    " # The differnece can be seen between the two graphs"
   ]
  },
  {
   "cell_type": "code",
   "execution_count": 80,
   "id": "78d29d15",
   "metadata": {},
   "outputs": [
    {
     "data": {
      "text/plain": [
       "<Figure size 1000x600 with 0 Axes>"
      ]
     },
     "execution_count": 80,
     "metadata": {},
     "output_type": "execute_result"
    },
    {
     "data": {
      "text/plain": [
       "[<matplotlib.lines.Line2D at 0x158612290>]"
      ]
     },
     "execution_count": 80,
     "metadata": {},
     "output_type": "execute_result"
    },
    {
     "data": {
      "text/plain": [
       "Text(0.5, 1.0, 'Daily Sales')"
      ]
     },
     "execution_count": 80,
     "metadata": {},
     "output_type": "execute_result"
    },
    {
     "data": {
      "text/plain": [
       "Text(0.5, 0, 'Day')"
      ]
     },
     "execution_count": 80,
     "metadata": {},
     "output_type": "execute_result"
    },
    {
     "data": {
      "text/plain": [
       "Text(0, 0.5, 'Sum of Sales')"
      ]
     },
     "execution_count": 80,
     "metadata": {},
     "output_type": "execute_result"
    },
    {
     "data": {
      "image/png": "[encoded data removed]",
      "text/plain": [
       "<Figure size 1000x600 with 1 Axes>"
      ]
     },
     "metadata": {},
     "output_type": "display_data"
    },
    {
     "name": "stdout",
     "output_type": "stream",
     "text": [
      "The day with the highest sales is Day 1 with a total of $2238730.70.\n"
     ]
    }
   ],
   "source": [
    "# Create a new variable 'sales' by multiplying quantity and final unit price\n",
    "filtered_table['sales'] = filtered_table['quantity'] * filtered_table['final_unit_price']\n",
    "\n",
    "# Sum the sales by day\n",
    "daily_sales_sum = filtered_table.groupby('order_day')['sales'].sum()\n",
    "\n",
    "# Create a line graph for daily sales\n",
    "plt.figure(figsize=(10, 6))\n",
    "plt.plot(daily_sales_sum.index, daily_sales_sum.values, marker='o', linestyle='-', color='purple')\n",
    "plt.title('Daily Sales')\n",
    "plt.xlabel('Day')\n",
    "plt.ylabel('Sum of Sales')\n",
    "plt.grid(True)\n",
    "plt.show()\n",
    "\n",
    "# Find the day with the highest sales\n",
    "max_sales_day = daily_sales_sum.idxmax()\n",
    "max_sales_value = daily_sales_sum.max()\n",
    "print(f\"The day with the highest sales is Day {max_sales_day} with a total of ${max_sales_value:.2f}.\")\n"
   ]
  },
  {
   "cell_type": "code",
   "execution_count": 81,
   "id": "b6d837ae",
   "metadata": {},
   "outputs": [
    {
     "data": {
      "text/plain": [
       "<Figure size 1000x600 with 0 Axes>"
      ]
     },
     "execution_count": 81,
     "metadata": {},
     "output_type": "execute_result"
    },
    {
     "data": {
      "text/plain": [
       "[<matplotlib.lines.Line2D at 0x1586adad0>]"
      ]
     },
     "execution_count": 81,
     "metadata": {},
     "output_type": "execute_result"
    },
    {
     "data": {
      "text/plain": [
       "Text(0.5, 1.0, 'SKU Availability Over the Month')"
      ]
     },
     "execution_count": 81,
     "metadata": {},
     "output_type": "execute_result"
    },
    {
     "data": {
      "text/plain": [
       "Text(0.5, 0, 'Day of the Month')"
      ]
     },
     "execution_count": 81,
     "metadata": {},
     "output_type": "execute_result"
    },
    {
     "data": {
      "text/plain": [
       "Text(0, 0.5, 'Number of Unique SKUs')"
      ]
     },
     "execution_count": 81,
     "metadata": {},
     "output_type": "execute_result"
    },
    {
     "data": {
      "image/png": "[encoded data removed]",
      "text/plain": [
       "<Figure size 1000x600 with 1 Axes>"
      ]
     },
     "metadata": {},
     "output_type": "display_data"
    }
   ],
   "source": [
    "# 3. Can we identify any patterns in SKU availability over the course of the month?\n",
    "# Extract day of the month from the order date\n",
    "filtered_table['order_day'] = filtered_table['order_date'].dt.day\n",
    "\n",
    "# Calculate the number of unique SKUs available each day\n",
    "sku_availability_by_day = filtered_table.groupby('order_day')['sku_ID'].nunique()\n",
    "\n",
    "# Create a line graph for SKU availability over the course of the month\n",
    "plt.figure(figsize=(10, 6))\n",
    "plt.plot(sku_availability_by_day.index, sku_availability_by_day.values, marker='o', linestyle='-', color='orange')\n",
    "plt.title('SKU Availability Over the Month')\n",
    "plt.xlabel('Day of the Month')\n",
    "plt.ylabel('Number of Unique SKUs')\n",
    "plt.grid(True)\n",
    "plt.show()\n"
   ]
  },
  {
   "cell_type": "code",
   "execution_count": null,
   "id": "f271d5af",
   "metadata": {},
   "outputs": [],
   "source": []
  },
  {
   "cell_type": "code",
   "execution_count": null,
   "id": "4425fb58",
   "metadata": {},
   "outputs": [],
   "source": []
  },
  {
   "cell_type": "code",
   "execution_count": null,
   "id": "6d35ebab-791b-4e8a-a3ff-eebfad8444a1",
   "metadata": {},
   "outputs": [],
   "source": []
  }
 ],
 "metadata": {
  "kernelspec": {
   "display_name": "Python 3 (ipykernel)",
   "language": "python",
   "name": "python3"
  },
  "language_info": {
   "codemirror_mode": {
    "name": "ipython",
    "version": 3
   },
   "file_extension": ".py",
   "mimetype": "text/x-python",
   "name": "python",
   "nbconvert_exporter": "python",
   "pygments_lexer": "ipython3",
   "version": "3.11.4"
  }
 },
 "nbformat": 4,
 "nbformat_minor": 5
}
